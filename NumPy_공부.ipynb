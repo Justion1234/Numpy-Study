{
  "nbformat": 4,
  "nbformat_minor": 0,
  "metadata": {
    "colab": {
      "name": "NumPy 공부",
      "provenance": [],
      "collapsed_sections": [],
      "toc_visible": true,
      "authorship_tag": "ABX9TyNQxhobpPqlYK3whVimjDzB"
    },
    "kernelspec": {
      "name": "python3",
      "display_name": "Python 3"
    },
    "language_info": {
      "name": "python"
    }
  },
  "cells": [
    {
      "cell_type": "markdown",
      "metadata": {
        "id": "8zdHERwYrVEK"
      },
      "source": [
        "NumPy 공부해보기"
      ]
    },
    {
      "cell_type": "code",
      "metadata": {
        "id": "f03xVcxqwUPC"
      },
      "source": [
        "import numpy as np"
      ],
      "execution_count": null,
      "outputs": []
    },
    {
      "cell_type": "markdown",
      "metadata": {
        "id": "j00XjiYK_ImM"
      },
      "source": [
        "NumPy로 1차원 배열 만들기\n",
        "\n"
      ]
    },
    {
      "cell_type": "code",
      "metadata": {
        "colab": {
          "base_uri": "https://localhost:8080/"
        },
        "id": "kfKd9ZWkrTRn",
        "outputId": "4ecc7976-9e05-409f-c551-0f3fd57ca0ab"
      },
      "source": [
        "a1 = np.array([1, 2, 3, 4, 5]) #1차원 배열 생성\n",
        "print(a1)\n",
        "print(type(a1))\n",
        "print(a1.shape) #ndarray라고 뜨는데 ndarray는 다차원행렬을 뜻한다.\n",
        "print(a1[0], a1[1], a1[2], a1[3], a1[4])\n",
        "a1[0] = 4\n",
        "a1[1] = 5\n",
        "a1[2] = 6\n",
        "print(a1)"
      ],
      "execution_count": null,
      "outputs": [
        {
          "output_type": "stream",
          "name": "stdout",
          "text": [
            "[1 2 3 4 5]\n",
            "<class 'numpy.ndarray'>\n",
            "(5,)\n",
            "1 2 3 4 5\n",
            "[4 5 6 4 5]\n"
          ]
        }
      ]
    },
    {
      "cell_type": "markdown",
      "metadata": {
        "id": "bw2DST5E_kc_"
      },
      "source": [
        "NumPy로 2차원 배열만들기\n"
      ]
    },
    {
      "cell_type": "code",
      "metadata": {
        "colab": {
          "base_uri": "https://localhost:8080/"
        },
        "id": "hEe8AnPjwXGp",
        "outputId": "66d2bf0b-104d-4bbc-d8b6-030b3b85cd86"
      },
      "source": [
        "a2 = np.array([ [1, 2, 3], [4, 5, 6], [7, 8, 9]])\n",
        "print(a2)\n",
        "print(a2.shape)\n",
        "print(a2[0, 0], a2[1, 1], a2[2, 2])"
      ],
      "execution_count": null,
      "outputs": [
        {
          "output_type": "stream",
          "name": "stdout",
          "text": [
            "[[1 2 3]\n",
            " [4 5 6]\n",
            " [7 8 9]]\n",
            "(3, 3)\n",
            "1 5 9\n"
          ]
        }
      ]
    },
    {
      "cell_type": "markdown",
      "metadata": {
        "id": "awVt-smFA-7y"
      },
      "source": [
        "NumPy로 3차원 배열 만들기"
      ]
    },
    {
      "cell_type": "code",
      "metadata": {
        "colab": {
          "base_uri": "https://localhost:8080/"
        },
        "id": "zG6Mamkg_VVa",
        "outputId": "5c6a3fa3-7670-41a7-fab2-e14134fbc5f4"
      },
      "source": [
        "a3 = np.array([ [ [1, 2, 3], [4, 5, 6], [7, 8, 9] ],\n",
        "              [ [1, 2, 3], [4, 5, 6], [7, 8, 9] ],\n",
        "              [ [1, 2, 3], [4, 5, 6], [7, 8, 9] ] ])\n",
        "\n",
        "print(a3)\n",
        "print(a3.shape) #(3, 3, 3)이라고 나와있는데 그걸 통해서 배열의 모양을 알 수 있다."
      ],
      "execution_count": null,
      "outputs": [
        {
          "output_type": "stream",
          "name": "stdout",
          "text": [
            "[[[1 2 3]\n",
            "  [4 5 6]\n",
            "  [7 8 9]]\n",
            "\n",
            " [[1 2 3]\n",
            "  [4 5 6]\n",
            "  [7 8 9]]\n",
            "\n",
            " [[1 2 3]\n",
            "  [4 5 6]\n",
            "  [7 8 9]]]\n",
            "(3, 3, 3)\n"
          ]
        }
      ]
    },
    {
      "cell_type": "markdown",
      "metadata": {
        "id": "m7pFEB_zBg-Y"
      },
      "source": [
        "- zeoros() : 모든 요소를 0으로 초기화"
      ]
    },
    {
      "cell_type": "code",
      "metadata": {
        "colab": {
          "base_uri": "https://localhost:8080/"
        },
        "id": "Zr3GFoKmwHri",
        "outputId": "3bd096ee-0597-4fcd-88e5-283adc3c81e8"
      },
      "source": [
        "np.zeros(10)\n",
        "#결과 값 : array([0., 0., 0., 0., 0., 0., 0., 0., 0., 0.])"
      ],
      "execution_count": null,
      "outputs": [
        {
          "output_type": "execute_result",
          "data": {
            "text/plain": [
              "array([0., 0., 0., 0., 0., 0., 0., 0., 0., 0.])"
            ]
          },
          "metadata": {},
          "execution_count": 5
        }
      ]
    },
    {
      "cell_type": "markdown",
      "metadata": {
        "id": "94v8dffVBuxf"
      },
      "source": [
        "ones(): 모든 요소를 1로 초기화"
      ]
    },
    {
      "cell_type": "code",
      "metadata": {
        "colab": {
          "base_uri": "https://localhost:8080/"
        },
        "id": "oeAFHZSOCZ0g",
        "outputId": "c4b94e5f-f48b-40f6-8dc0-1a38fa0afcc5"
      },
      "source": [
        "np.ones(10)"
      ],
      "execution_count": null,
      "outputs": [
        {
          "output_type": "execute_result",
          "data": {
            "text/plain": [
              "array([1., 1., 1., 1., 1., 1., 1., 1., 1., 1.])"
            ]
          },
          "metadata": {},
          "execution_count": 6
        }
      ]
    },
    {
      "cell_type": "code",
      "metadata": {
        "colab": {
          "base_uri": "https://localhost:8080/"
        },
        "id": "WE6Q2nQWBVDB",
        "outputId": "f59b1809-f9f0-4dfe-c01c-64ea234b5c56"
      },
      "source": [
        "np.ones((3, 3))"
      ],
      "execution_count": null,
      "outputs": [
        {
          "output_type": "execute_result",
          "data": {
            "text/plain": [
              "array([[1., 1., 1.],\n",
              "       [1., 1., 1.],\n",
              "       [1., 1., 1.]])"
            ]
          },
          "metadata": {},
          "execution_count": 7
        }
      ]
    },
    {
      "cell_type": "markdown",
      "metadata": {
        "id": "urVRXr3pCajN"
      },
      "source": [
        "- full() : 모든 요소를 지정한 값으로 초기화"
      ]
    },
    {
      "cell_type": "code",
      "metadata": {
        "id": "xZeBxFHSCBII",
        "colab": {
          "base_uri": "https://localhost:8080/"
        },
        "outputId": "cc0dcc44-c019-463f-95c3-f5ec96079ce1"
      },
      "source": [
        "np.full((3, 3), 1.23)\n",
        "\n",
        "#사용 방식np.full((채워질 요소 부분), 채울 값)"
      ],
      "execution_count": null,
      "outputs": [
        {
          "output_type": "execute_result",
          "data": {
            "text/plain": [
              "array([[1.23, 1.23, 1.23],\n",
              "       [1.23, 1.23, 1.23],\n",
              "       [1.23, 1.23, 1.23]])"
            ]
          },
          "metadata": {},
          "execution_count": 8
        }
      ]
    },
    {
      "cell_type": "markdown",
      "metadata": {
        "id": "SSDRtFv8DSSG"
      },
      "source": [
        "- eye(): 단위 행렬(identity matrix) 생성\n",
        "  - 주 대각선의 원소가 모두 1이고 나머지 원소는 모두 0인 정사각 행렬"
      ]
    },
    {
      "cell_type": "code",
      "metadata": {
        "colab": {
          "base_uri": "https://localhost:8080/"
        },
        "id": "ysZVhCR9DN7g",
        "outputId": "dbd2675b-d9b6-46b4-eb73-49fa1901c8b7"
      },
      "source": [
        "np.eye(3) "
      ],
      "execution_count": null,
      "outputs": [
        {
          "output_type": "execute_result",
          "data": {
            "text/plain": [
              "array([[1., 0., 0.],\n",
              "       [0., 1., 0.],\n",
              "       [0., 0., 1.]])"
            ]
          },
          "metadata": {},
          "execution_count": 9
        }
      ]
    },
    {
      "cell_type": "markdown",
      "metadata": {
        "id": "w3JpEbItD5O_"
      },
      "source": [
        "- empty() : 초기화되지 않은 배열 생성\n",
        "  - 초기화가 없어서 배열 생성비용 저렴하고 빠름\n",
        "  - 초기화되지 않아서 기존 메모리 위치에 존재하는 값이 있음"
      ]
    },
    {
      "cell_type": "code",
      "metadata": {
        "colab": {
          "base_uri": "https://localhost:8080/"
        },
        "id": "WOtlYzpAD0zP",
        "outputId": "17a78d5c-b7e0-4eca-e2cb-639dd5a469e0"
      },
      "source": [
        "np.empty(10)\n",
        "#그 전에 할당된 값들이 따라옴 초기화가 없어서"
      ],
      "execution_count": null,
      "outputs": [
        {
          "output_type": "execute_result",
          "data": {
            "text/plain": [
              "array([1., 1., 1., 1., 1., 1., 1., 1., 1., 1.])"
            ]
          },
          "metadata": {},
          "execution_count": 10
        }
      ]
    },
    {
      "cell_type": "markdown",
      "metadata": {
        "id": "6eHw492kEexC"
      },
      "source": [
        "- _like() : 지정된 배열과 shape가 같은 행렬 생성\n",
        "  - np.zeros_like()\n",
        "  - np.ones_like()\n",
        "  - np.full_like()\n",
        "  - np.empty_like()"
      ]
    },
    {
      "cell_type": "code",
      "metadata": {
        "colab": {
          "base_uri": "https://localhost:8080/"
        },
        "id": "dVa53GjdEviX",
        "outputId": "b96c5900-3225-4199-c71f-32baba98dc34"
      },
      "source": [
        "print(a1)\n",
        "np.zeros_like(a1)"
      ],
      "execution_count": null,
      "outputs": [
        {
          "output_type": "stream",
          "name": "stdout",
          "text": [
            "[4 5 6 4 5]\n"
          ]
        },
        {
          "output_type": "execute_result",
          "data": {
            "text/plain": [
              "array([0, 0, 0, 0, 0])"
            ]
          },
          "metadata": {},
          "execution_count": 11
        }
      ]
    },
    {
      "cell_type": "code",
      "metadata": {
        "colab": {
          "base_uri": "https://localhost:8080/"
        },
        "id": "fIPRY4okFDsm",
        "outputId": "552c1a68-b179-4cc4-c269-68fa67c8b02c"
      },
      "source": [
        "print(a1)\n",
        "np.ones_like(a1)"
      ],
      "execution_count": null,
      "outputs": [
        {
          "output_type": "stream",
          "name": "stdout",
          "text": [
            "[4 5 6 4 5]\n"
          ]
        },
        {
          "output_type": "execute_result",
          "data": {
            "text/plain": [
              "array([1, 1, 1, 1, 1])"
            ]
          },
          "metadata": {},
          "execution_count": 12
        }
      ]
    },
    {
      "cell_type": "code",
      "metadata": {
        "colab": {
          "base_uri": "https://localhost:8080/"
        },
        "id": "wH8GumTlFQNf",
        "outputId": "059d8fa9-f785-44f8-f95a-ae9a694158ad"
      },
      "source": [
        "print(a1)\n",
        "np.full_like(a1, 10)"
      ],
      "execution_count": null,
      "outputs": [
        {
          "output_type": "stream",
          "name": "stdout",
          "text": [
            "[4 5 6 4 5]\n"
          ]
        },
        {
          "output_type": "execute_result",
          "data": {
            "text/plain": [
              "array([10, 10, 10, 10, 10])"
            ]
          },
          "metadata": {},
          "execution_count": 13
        }
      ]
    },
    {
      "cell_type": "markdown",
      "metadata": {
        "id": "QwGuXRtGFhrm"
      },
      "source": [
        "- arange(): 정수 범위로 배열 생성"
      ]
    },
    {
      "cell_type": "code",
      "metadata": {
        "colab": {
          "base_uri": "https://localhost:8080/"
        },
        "id": "ox5t9iDzFcFI",
        "outputId": "4f325b66-2690-4cf0-b859-e1e1983c192a"
      },
      "source": [
        "np.arange(0, 30, 2) \n",
        "# 첫번째 원소: 시작 값\n",
        "# 두번째 원소: 값의 마지막 값\n",
        "# 세번째 원소: 증가되는 크기"
      ],
      "execution_count": null,
      "outputs": [
        {
          "output_type": "execute_result",
          "data": {
            "text/plain": [
              "array([ 0,  2,  4,  6,  8, 10, 12, 14, 16, 18, 20, 22, 24, 26, 28])"
            ]
          },
          "metadata": {},
          "execution_count": 14
        }
      ]
    },
    {
      "cell_type": "markdown",
      "metadata": {
        "id": "TIyMscy-GFUT"
      },
      "source": [
        "- linspace(): 범위 내에서 균등 간격의 배열 생성"
      ]
    },
    {
      "cell_type": "code",
      "metadata": {
        "colab": {
          "base_uri": "https://localhost:8080/"
        },
        "id": "nlTLFbKfGD_f",
        "outputId": "9a201ec5-e595-4fad-8c9e-de7877ac9f21"
      },
      "source": [
        "np.linspace(0, 1, 5)\n",
        "# 첫번째 원소 : 시작 값\n",
        "# 두번째 원소 : 값의 마지막 값\n",
        "# 세번째 원소 : 증가되는 횟수"
      ],
      "execution_count": null,
      "outputs": [
        {
          "output_type": "execute_result",
          "data": {
            "text/plain": [
              "array([0.  , 0.25, 0.5 , 0.75, 1.  ])"
            ]
          },
          "metadata": {},
          "execution_count": 15
        }
      ]
    },
    {
      "cell_type": "markdown",
      "metadata": {
        "id": "SOI7gAPzGm1e"
      },
      "source": [
        "- logspace() : 범위 내에서 균등간격으로 로그 스케일로 배열 생성"
      ]
    },
    {
      "cell_type": "code",
      "metadata": {
        "id": "rEB_YmCvGb_v",
        "colab": {
          "base_uri": "https://localhost:8080/"
        },
        "outputId": "ef2b87c1-83df-4ad8-e2b8-50f7f8c66423"
      },
      "source": [
        "np.logspace(0.1, 1, 20)\n",
        "# 첫번째 원소 : 시작 값\n",
        "# 두번째 원소 : 값의 마지막 값\n",
        "# 세번째 원소 : log값의 베이스 값"
      ],
      "execution_count": null,
      "outputs": [
        {
          "output_type": "execute_result",
          "data": {
            "text/plain": [
              "array([ 1.25892541,  1.40400425,  1.565802  ,  1.74624535,  1.94748304,\n",
              "        2.1719114 ,  2.42220294,  2.70133812,  3.0126409 ,  3.35981829,\n",
              "        3.74700446,  4.17881006,  4.66037703,  5.19743987,  5.79639395,\n",
              "        6.46437163,  7.2093272 ,  8.04013161,  8.9666781 , 10.        ])"
            ]
          },
          "metadata": {},
          "execution_count": 16
        }
      ]
    },
    {
      "cell_type": "markdown",
      "metadata": {
        "id": "NpyzT2A_HXlp"
      },
      "source": [
        "# 랜덤값으로 배열 생성\n"
      ]
    },
    {
      "cell_type": "markdown",
      "metadata": {
        "id": "TiobQHPfKfSx"
      },
      "source": [
        "- random.random(): 랜덤한 수의 배열 생성"
      ]
    },
    {
      "cell_type": "code",
      "metadata": {
        "colab": {
          "base_uri": "https://localhost:8080/"
        },
        "id": "3juEurA6HXak",
        "outputId": "dcaa3697-bff1-4cda-8206-633bd97c9005"
      },
      "source": [
        "np.random.random((3, 3))\n",
        "#안에 shape모양만 채워주면 알아서 랜덤 값이 채워짐"
      ],
      "execution_count": null,
      "outputs": [
        {
          "output_type": "execute_result",
          "data": {
            "text/plain": [
              "array([[0.85105391, 0.09741949, 0.38654018],\n",
              "       [0.77371894, 0.92504342, 0.49377271],\n",
              "       [0.97639987, 0.90460107, 0.79875396]])"
            ]
          },
          "metadata": {},
          "execution_count": 17
        }
      ]
    },
    {
      "cell_type": "markdown",
      "metadata": {
        "id": "Y2BdwAbFLAWm"
      },
      "source": [
        "- random.randint() : 일정 구간의 랜덤 정수의 배열 생성"
      ]
    },
    {
      "cell_type": "code",
      "metadata": {
        "id": "RobtraHILAjg",
        "colab": {
          "base_uri": "https://localhost:8080/"
        },
        "outputId": "50ff5df8-a402-40fc-b59f-f31f725c3102"
      },
      "source": [
        "np.random.normal(0, 1, (3, 3))\n",
        "# np.random.normal(평균, 표준편차, 배열 모양)"
      ],
      "execution_count": null,
      "outputs": [
        {
          "output_type": "execute_result",
          "data": {
            "text/plain": [
              "array([[ 1.30875929, -0.98977343,  0.19084161],\n",
              "       [ 1.3282422 ,  1.04132832, -1.69245484],\n",
              "       [ 0.51274601, -1.04125588,  0.7493734 ]])"
            ]
          },
          "metadata": {},
          "execution_count": 18
        }
      ]
    },
    {
      "cell_type": "markdown",
      "metadata": {
        "id": "WQQ6ZI_-LekI"
      },
      "source": [
        "- random.rand() : 균등분포를 고려한 랜덤한 수의 배열 생성"
      ]
    },
    {
      "cell_type": "code",
      "metadata": {
        "colab": {
          "base_uri": "https://localhost:8080/"
        },
        "id": "1DQQM_L0Leq7",
        "outputId": "8bfb21a1-fd19-4e7f-fb28-547428bed1a3"
      },
      "source": [
        "np.random.rand(3, 3)\n",
        "#균등분포란?\n",
        "#일반적으로 각 이벤트의 결과값을 알 수 없는 경우에 미래에 발생할 이벤트의 결과값 x가 각 예상되는 범위별로 균등한 확류로 일어날 것이라고 예상될 때 사용"
      ],
      "execution_count": null,
      "outputs": [
        {
          "output_type": "execute_result",
          "data": {
            "text/plain": [
              "array([[0.38287164, 0.43604666, 0.4718741 ],\n",
              "       [0.83900929, 0.93474363, 0.42434654],\n",
              "       [0.79488672, 0.8576532 , 0.62718377]])"
            ]
          },
          "metadata": {},
          "execution_count": 19
        }
      ]
    },
    {
      "cell_type": "markdown",
      "metadata": {
        "id": "-ruuIR0HLugO"
      },
      "source": [
        "- random.randn(): 표준 정규 분포를 고려한 랜덤한 수의 배열 생성"
      ]
    },
    {
      "cell_type": "code",
      "metadata": {
        "id": "2EeI5Mp6LuW4",
        "colab": {
          "base_uri": "https://localhost:8080/"
        },
        "outputId": "f1683204-1903-4413-ef42-cc6a7fabbc09"
      },
      "source": [
        "np.random.randn(3, 3)"
      ],
      "execution_count": null,
      "outputs": [
        {
          "output_type": "execute_result",
          "data": {
            "text/plain": [
              "array([[-1.05757042,  0.95399896,  0.00621745],\n",
              "       [-0.69629631,  1.30725783, -1.86456152],\n",
              "       [ 0.20853032,  0.8946995 , -0.72136957]])"
            ]
          },
          "metadata": {},
          "execution_count": 20
        }
      ]
    },
    {
      "cell_type": "markdown",
      "metadata": {
        "id": "se8IxlqPinvM"
      },
      "source": [
        "# 표준 데이터 타입\n",
        "```\n",
        "\n"
      ]
    },
    {
      "cell_type": "markdown",
      "metadata": {
        "id": "rzXHsCxOi1MC"
      },
      "source": [
        "\n",
        "1.   자료형의 종류\n",
        "  - 1) 정수형(int : integar)\n",
        "      - 부호가 있는 정수형 : int8, int16, int32, int64\n",
        "      - 부호가 없는 정수형 : u\n",
        "  - 2) 실수형(float)\n",
        "      - float16, float32, float64\n",
        "  - 3) 복소수(complex)\n",
        "      - complex64: 두개의 32비트 부동 소수점으로 표시되는 복소수\n",
        "      - complex128: 두개의 64비트 부동 소수점으로 표시되는 복소수\n",
        "  - 4) 부울형(boolean)\n",
        "    - True, False\n",
        "2.   데이터 타입을 알기 위한 type(), dtype 속성\n",
        "\n"
      ]
    },
    {
      "cell_type": "code",
      "metadata": {
        "colab": {
          "base_uri": "https://localhost:8080/"
        },
        "id": "igyVVlHTnjs9",
        "outputId": "6ac878d1-9e93-4352-e88b-418749dfc74f"
      },
      "source": [
        "x = np.float32(1.0)\n",
        "print(x)\n",
        "print(type(x)) #type()를 이용하여 데이터 타입 알아내기\n",
        "print(x.dtype) #.dtype를 이용하여 데이터 타입 알아내기"
      ],
      "execution_count": null,
      "outputs": [
        {
          "output_type": "stream",
          "name": "stdout",
          "text": [
            "1.0\n",
            "<class 'numpy.float32'>\n",
            "float32\n"
          ]
        }
      ]
    },
    {
      "cell_type": "code",
      "metadata": {
        "colab": {
          "base_uri": "https://localhost:8080/"
        },
        "id": "yoDqxakNizpr",
        "outputId": "48a40e0d-c5e2-4198-d928-e49910fe0b66"
      },
      "source": [
        "np.zeros(20, dtype=int)\n",
        "#20개의 숫자를 0으로 만들고 데이터 타입을 int형으로"
      ],
      "execution_count": null,
      "outputs": [
        {
          "output_type": "execute_result",
          "data": {
            "text/plain": [
              "array([0, 0, 0, 0, 0, 0, 0, 0, 0, 0, 0, 0, 0, 0, 0, 0, 0, 0, 0, 0])"
            ]
          },
          "metadata": {},
          "execution_count": 22
        }
      ]
    },
    {
      "cell_type": "code",
      "metadata": {
        "colab": {
          "base_uri": "https://localhost:8080/"
        },
        "id": "RW75j9ojin-K",
        "outputId": "d5b9a69e-796c-4b9c-d253-dfb02736fa7d"
      },
      "source": [
        "np.ones((3, 3), dtype=bool)\n",
        "# 3, 3모양으로 다 1로 채움\n",
        "#1로 채워진 곳은 True로 나타난다"
      ],
      "execution_count": null,
      "outputs": [
        {
          "output_type": "execute_result",
          "data": {
            "text/plain": [
              "array([[ True,  True,  True],\n",
              "       [ True,  True,  True],\n",
              "       [ True,  True,  True]])"
            ]
          },
          "metadata": {},
          "execution_count": 23
        }
      ]
    },
    {
      "cell_type": "code",
      "metadata": {
        "id": "0f6XCZ-6u8MN",
        "colab": {
          "base_uri": "https://localhost:8080/"
        },
        "outputId": "f43c01ec-5522-4766-a59f-3bb7ceb5cfc7"
      },
      "source": [
        "np.full((3, 3), 1.0, dtype=float)"
      ],
      "execution_count": null,
      "outputs": [
        {
          "output_type": "execute_result",
          "data": {
            "text/plain": [
              "array([[1., 1., 1.],\n",
              "       [1., 1., 1.],\n",
              "       [1., 1., 1.]])"
            ]
          },
          "metadata": {},
          "execution_count": 24
        }
      ]
    },
    {
      "cell_type": "markdown",
      "metadata": {
        "id": "FuckpLvFvMKU"
      },
      "source": [
        "\n",
        "# NumPy로 날짜/시간 배열 생성\n",
        "\n"
      ]
    },
    {
      "cell_type": "code",
      "metadata": {
        "colab": {
          "base_uri": "https://localhost:8080/"
        },
        "id": "WOO2FsirvUYO",
        "outputId": "044c3aca-032f-4362-8c55-6f5ea96a2c9b"
      },
      "source": [
        "date = np.array('2020-01-01', dtype=np.datetime64)\n",
        "date"
      ],
      "execution_count": null,
      "outputs": [
        {
          "output_type": "execute_result",
          "data": {
            "text/plain": [
              "array('2020-01-01', dtype='datetime64[D]')"
            ]
          },
          "metadata": {},
          "execution_count": 25
        }
      ]
    },
    {
      "cell_type": "code",
      "metadata": {
        "colab": {
          "base_uri": "https://localhost:8080/"
        },
        "id": "nS4WyJjAvk71",
        "outputId": "d5f5aa6d-2103-461e-a059-a8abd5d60fd0"
      },
      "source": [
        "date + np.arange(12)"
      ],
      "execution_count": null,
      "outputs": [
        {
          "output_type": "execute_result",
          "data": {
            "text/plain": [
              "array(['2020-01-01', '2020-01-02', '2020-01-03', '2020-01-04',\n",
              "       '2020-01-05', '2020-01-06', '2020-01-07', '2020-01-08',\n",
              "       '2020-01-09', '2020-01-10', '2020-01-11', '2020-01-12'],\n",
              "      dtype='datetime64[D]')"
            ]
          },
          "metadata": {},
          "execution_count": 26
        }
      ]
    },
    {
      "cell_type": "code",
      "metadata": {
        "colab": {
          "base_uri": "https://localhost:8080/"
        },
        "id": "g4p8zzp7vlRt",
        "outputId": "15c045e1-73db-4839-ae53-a0fc527e9858"
      },
      "source": [
        "datetime = np.datetime64('2020-06-01 12:00')\n",
        "datetime"
      ],
      "execution_count": null,
      "outputs": [
        {
          "output_type": "execute_result",
          "data": {
            "text/plain": [
              "numpy.datetime64('2020-06-01T12:00')"
            ]
          },
          "metadata": {},
          "execution_count": 27
        }
      ]
    },
    {
      "cell_type": "code",
      "metadata": {
        "colab": {
          "base_uri": "https://localhost:8080/"
        },
        "id": "awnYVGsEvlxs",
        "outputId": "658c3508-0d56-4532-bbcb-a1e1d30c7b9a"
      },
      "source": [
        "datetime = np.datetime64('2020-06-01 12:00:12.34', 'ns')\n",
        "datetime"
      ],
      "execution_count": null,
      "outputs": [
        {
          "output_type": "execute_result",
          "data": {
            "text/plain": [
              "numpy.datetime64('2020-06-01T12:00:12.340000000')"
            ]
          },
          "metadata": {},
          "execution_count": 28
        }
      ]
    },
    {
      "cell_type": "code",
      "metadata": {
        "colab": {
          "base_uri": "https://localhost:8080/"
        },
        "id": "rXVj2yXFwNC1",
        "outputId": "00853d46-f7f8-4ffb-d3db-f6c86876675d"
      },
      "source": [
        "datetime = np.datetime64('2020-06-01 12:00:12.34', 'ns')\n",
        "#ns : 나노초\n",
        "datetime"
      ],
      "execution_count": null,
      "outputs": [
        {
          "output_type": "execute_result",
          "data": {
            "text/plain": [
              "numpy.datetime64('2020-06-01T12:00:12.340000000')"
            ]
          },
          "metadata": {},
          "execution_count": 29
        }
      ]
    },
    {
      "cell_type": "markdown",
      "metadata": {
        "id": "jK4lXYSZw77U"
      },
      "source": [
        "# 배열 조회\n",
        "\n"
      ]
    },
    {
      "cell_type": "code",
      "metadata": {
        "id": "5ABgSjkJw7zE"
      },
      "source": [
        "def array_info(array):\n",
        "  print(array)\n",
        "  print(\"ndim: \", array.ndim) #ndim : 배열의 차원 수\n",
        "  print(\"shape : \", array.shape) #shape : 배열 각 차원의 크기를 튜플 형태로 표현\n",
        "  print(\"dtype : \", array.dtype) #dtype : 데이터 타입\n",
        "  print(\"size : \", array.size) #배열 요소의 총 개수를 반환\n",
        "  print(\"itemsize:\", array.itemsize) #배열 요소의 바이트 크기\n",
        "  print(\"nbytes:\", array.nbytes) #배열의 전체 요소가 차지하는 바이트 크기\n",
        "  print(\"strides:\", array.strides) #다음 차원으로 넘어가기 위한 사이즈"
      ],
      "execution_count": null,
      "outputs": []
    },
    {
      "cell_type": "markdown",
      "metadata": {
        "id": "VdbYaW4hk-wH"
      },
      "source": [
        "인강 다시 봐야함 여기서부터"
      ]
    },
    {
      "cell_type": "code",
      "metadata": {
        "colab": {
          "base_uri": "https://localhost:8080/"
        },
        "id": "6MtTGciGxpJm",
        "outputId": "6bad3c44-9cb7-418f-84c9-54c4440d0628"
      },
      "source": [
        "array_info(a1)"
      ],
      "execution_count": null,
      "outputs": [
        {
          "output_type": "stream",
          "name": "stdout",
          "text": [
            "[4 5 6 4 5]\n",
            "ndim:  1\n",
            "shape :  (5,)\n",
            "dtype :  int64\n",
            "size :  5\n",
            "itemsize: 8\n",
            "nbytes: 40\n",
            "strides: (8,)\n"
          ]
        }
      ]
    },
    {
      "cell_type": "code",
      "metadata": {
        "colab": {
          "base_uri": "https://localhost:8080/"
        },
        "id": "SJojSW31gh6G",
        "outputId": "40f40030-1b39-466d-e16d-96ef387973c0"
      },
      "source": [
        "array_info(a2)"
      ],
      "execution_count": null,
      "outputs": [
        {
          "output_type": "stream",
          "name": "stdout",
          "text": [
            "[[1 2 3]\n",
            " [4 5 6]\n",
            " [7 8 9]]\n",
            "ndim:  2\n",
            "shape :  (3, 3)\n",
            "dtype :  int64\n",
            "size :  9\n",
            "itemsize: 8\n",
            "nbytes: 72\n",
            "strides: (24, 8)\n"
          ]
        }
      ]
    },
    {
      "cell_type": "code",
      "metadata": {
        "colab": {
          "base_uri": "https://localhost:8080/"
        },
        "id": "C8OU4QDAgt2U",
        "outputId": "d2eeff7a-8776-478c-84f4-bcf3862e61ff"
      },
      "source": [
        "array_info(a3)"
      ],
      "execution_count": null,
      "outputs": [
        {
          "output_type": "stream",
          "name": "stdout",
          "text": [
            "[[[1 2 3]\n",
            "  [4 5 6]\n",
            "  [7 8 9]]\n",
            "\n",
            " [[1 2 3]\n",
            "  [4 5 6]\n",
            "  [7 8 9]]\n",
            "\n",
            " [[1 2 3]\n",
            "  [4 5 6]\n",
            "  [7 8 9]]]\n",
            "ndim:  3\n",
            "shape :  (3, 3, 3)\n",
            "dtype :  int64\n",
            "size :  27\n",
            "itemsize: 8\n",
            "nbytes: 216\n",
            "strides: (72, 24, 8)\n"
          ]
        }
      ]
    },
    {
      "cell_type": "markdown",
      "metadata": {
        "id": "pSohWf-bjtPR"
      },
      "source": [
        "\n",
        "\n",
        "# 인덱싱\n",
        "\n"
      ]
    },
    {
      "cell_type": "code",
      "metadata": {
        "id": "kOmT5kQwjsa8",
        "colab": {
          "base_uri": "https://localhost:8080/"
        },
        "outputId": "657e7ed0-baea-489d-e10c-8402e35004c2"
      },
      "source": [
        "print(a1)\n",
        "print(a1[0])\n",
        "print(a1[2])\n",
        "print(a1[-1])\n",
        "print(a1[-2])"
      ],
      "execution_count": null,
      "outputs": [
        {
          "output_type": "stream",
          "name": "stdout",
          "text": [
            "[4 5 6 4 5]\n",
            "4\n",
            "6\n",
            "5\n",
            "4\n"
          ]
        }
      ]
    },
    {
      "cell_type": "code",
      "metadata": {
        "id": "y9pKBiK5kRD4",
        "colab": {
          "base_uri": "https://localhost:8080/"
        },
        "outputId": "2f28bca8-41b3-4969-bc5f-3dc4b52d5279"
      },
      "source": [
        "print(a2)\n",
        "print(a2[0, 0])\n",
        "print(a2[0, 2])\n",
        "print(a2[1, 1])\n",
        "print(a2[2, -1])"
      ],
      "execution_count": null,
      "outputs": [
        {
          "output_type": "stream",
          "name": "stdout",
          "text": [
            "[[1 2 3]\n",
            " [4 5 6]\n",
            " [7 8 9]]\n",
            "1\n",
            "3\n",
            "5\n",
            "9\n"
          ]
        }
      ]
    },
    {
      "cell_type": "code",
      "metadata": {
        "colab": {
          "base_uri": "https://localhost:8080/"
        },
        "id": "F9n2MQI5knZ1",
        "outputId": "4deb549d-f69d-4d0a-e71e-7b51fafb6d05"
      },
      "source": [
        "print(a3)\n",
        "print(a3[0, 0, 0])\n",
        "print(a3[1, 1, 1])\n",
        "print(a3[2, 2, 2])\n",
        "print(a3[2, -1, -1])"
      ],
      "execution_count": null,
      "outputs": [
        {
          "output_type": "stream",
          "text": [
            "[[[1 2 3]\n",
            "  [4 5 6]\n",
            "  [7 8 9]]\n",
            "\n",
            " [[1 2 3]\n",
            "  [4 5 6]\n",
            "  [7 8 9]]\n",
            "\n",
            " [[1 2 3]\n",
            "  [4 5 6]\n",
            "  [7 8 9]]]\n",
            "1\n",
            "5\n",
            "9\n",
            "9\n"
          ],
          "name": "stdout"
        }
      ]
    },
    {
      "cell_type": "markdown",
      "metadata": {
        "id": "gCoeGP1wk1lr"
      },
      "source": [
        "# 슬라이싱\n",
        "\n",
        "\n"
      ]
    },
    {
      "cell_type": "markdown",
      "metadata": {
        "id": "THtKW0j2k9Q5"
      },
      "source": [
        "- 슬라이싱 구문:a[start:stop:step]\n",
        "- 기본 값:start=0, stop=ndim,step=1"
      ]
    },
    {
      "cell_type": "code",
      "metadata": {
        "id": "ZRkNop7DknfF",
        "colab": {
          "base_uri": "https://localhost:8080/"
        },
        "outputId": "d615b96a-2820-47f9-fd52-27840675bf1a"
      },
      "source": [
        "#슬라이싱 : 원하는 부분만 조회\n",
        "print(a1)\n",
        "print(a1[0:2]) #0부터 2의 전 부분까지 출력이니까 [4, 5] 출력\n",
        "print(a1[0:])  #0부터 끝까지 출력\n",
        "print(a1[:1])  #0부터 1의 전 부분까지 출력이니까 [4] 출력\n",
        "print(a1[::2]) #step 빼고 아무것도 지정안되어있음 스탭은 2니까 두칸씩 넘어감. 그래서 [4, 6, 5] 출력\n",
        "print(a1[::-1])#step이 -1이니 출력 형태가 reverse가 되어서 출력"
      ],
      "execution_count": null,
      "outputs": [
        {
          "output_type": "stream",
          "text": [
            "[4 5 6 4 5]\n",
            "[4 5]\n",
            "[4 5 6 4 5]\n",
            "[4]\n",
            "[4 6 5]\n",
            "[5 4 6 5 4]\n"
          ],
          "name": "stdout"
        }
      ]
    },
    {
      "cell_type": "code",
      "metadata": {
        "id": "fNPaH8dLldY8",
        "colab": {
          "base_uri": "https://localhost:8080/"
        },
        "outputId": "e5b5983b-0780-432c-c82f-18bd5fd8fb1c"
      },
      "source": [
        "print(a2)\n",
        "print(a2[1])\n",
        "print(a2[1, :])     #start만 적혀있는 걸보니 a2[1] 모든부분만 출력하면 됌\n",
        "print(a2[:2, :2])   #start말고 stop만 정의되어있음. 그래서 두줄의 배열 0번째랑 1번째 부분만 출력하면 됌\n",
        "print(a2[1:, ::-1]) #start은 1인데 step은 역순으로 -1 그래서 a2[1]부터 거꾸로 출력\n",
        "print(a2[::-1, ::-1])#start이랑 step 둘다 -1이여서 완전히 반대로 출력"
      ],
      "execution_count": null,
      "outputs": [
        {
          "output_type": "stream",
          "text": [
            "[[1 2 3]\n",
            " [4 5 6]\n",
            " [7 8 9]]\n",
            "[4 5 6]\n",
            "[4 5 6]\n",
            "[[1 2]\n",
            " [4 5]]\n",
            "[[6 5 4]\n",
            " [9 8 7]]\n",
            "[[9 8 7]\n",
            " [6 5 4]\n",
            " [3 2 1]]\n"
          ],
          "name": "stdout"
        }
      ]
    },
    {
      "cell_type": "markdown",
      "metadata": {
        "id": "UHdz1ir_lskf"
      },
      "source": [
        "\n",
        "# 불리언 인덱싱\n",
        "\n"
      ]
    },
    {
      "cell_type": "markdown",
      "metadata": {
        "id": "5zRFGg0PlwuG"
      },
      "source": [
        "- 배열 각 요소의 선택 여부를 불리언(True or False)로 지정\n",
        "- True값인 인덱스의 값만 조회"
      ]
    },
    {
      "cell_type": "code",
      "metadata": {
        "id": "BdvyuqXllrnn",
        "colab": {
          "base_uri": "https://localhost:8080/"
        },
        "outputId": "3ba83573-7c7f-4fdd-d8fa-27e40d44c0d0"
      },
      "source": [
        "print(a1)\n",
        "bi = [False, True, True, False, True]\n",
        "print(a1[bi])\n",
        "bi = [True, False, True, True, False]\n",
        "print(a1[bi])"
      ],
      "execution_count": null,
      "outputs": [
        {
          "output_type": "stream",
          "name": "stdout",
          "text": [
            "[4 5 6 4 5]\n",
            "[5 6 5]\n",
            "[4 6 4]\n"
          ]
        }
      ]
    },
    {
      "cell_type": "code",
      "metadata": {
        "id": "3Q47Fgv3mNyb",
        "colab": {
          "base_uri": "https://localhost:8080/"
        },
        "outputId": "3b4b1cc0-baeb-48a5-d036-93f5eea42c7e"
      },
      "source": [
        "print(a2)\n",
        "bi = np.random.randint(0, 2, (3, 3))"
      ],
      "execution_count": null,
      "outputs": [
        {
          "output_type": "stream",
          "name": "stdout",
          "text": [
            "[[1 2 3]\n",
            " [4 5 6]\n",
            " [7 8 9]]\n"
          ]
        }
      ]
    },
    {
      "cell_type": "markdown",
      "metadata": {
        "id": "aaEY9lJBlw2_"
      },
      "source": [
        "\n",
        "# 팬시 인덱싱(Fancy Indexing)\n"
      ]
    },
    {
      "cell_type": "code",
      "metadata": {
        "id": "gyLVtYEDSZYB",
        "colab": {
          "base_uri": "https://localhost:8080/"
        },
        "outputId": "3aa64361-38f0-44f9-a7a5-d98533782efa"
      },
      "source": [
        "print(a2)\n",
        "row = np.array([0, 2])\n",
        "col = np.array([1, 2])\n",
        "print(a2[row, col])\n",
        "print(a2[row, :])\n",
        "print(a2[:, col])\n",
        "print(a2[row, 1])\n",
        "print(a2[2, col])\n",
        "print(a2[row, 1:])\n",
        "print(a2[1:, col])"
      ],
      "execution_count": null,
      "outputs": [
        {
          "output_type": "stream",
          "name": "stdout",
          "text": [
            "[[1 2 3]\n",
            " [4 5 6]\n",
            " [7 8 9]]\n",
            "[2 9]\n",
            "[[1 2 3]\n",
            " [7 8 9]]\n",
            "[[2 3]\n",
            " [5 6]\n",
            " [8 9]]\n",
            "[2 8]\n",
            "[8 9]\n",
            "[[2 3]\n",
            " [8 9]]\n",
            "[[5 6]\n",
            " [8 9]]\n"
          ]
        }
      ]
    },
    {
      "cell_type": "markdown",
      "metadata": {
        "id": "A0XSinP7Th8N"
      },
      "source": [
        "\n",
        "# 배열 값 삽입/수정/삭제/복사\n",
        "\n",
        "\n",
        "\n",
        "\n",
        "\n",
        "\n",
        "\n"
      ]
    },
    {
      "cell_type": "markdown",
      "metadata": {
        "id": "lWMzARpeU0ZW"
      },
      "source": [
        "- insert(): 배열의 특정 위치에 값 삽입\n",
        "- axis를 지정하지 않으면 1차원 배열로 변환\n",
        "- 추가할 방향을 axis로 지정\n",
        "- 원본 배열 변경없이 새로운 배열 변환"
      ]
    },
    {
      "cell_type": "code",
      "metadata": {
        "id": "Rb0PtCAqT_aF",
        "colab": {
          "base_uri": "https://localhost:8080/"
        },
        "outputId": "3ab869f2-ab6b-43da-b4be-6a53a14334da"
      },
      "source": [
        "print(a1)\n",
        "b1 = np.insert(a1, 0, 10)\n",
        "print(b1)\n",
        "c1 = np.insert(a1, 2, 10)\n",
        "print(c1) "
      ],
      "execution_count": null,
      "outputs": [
        {
          "output_type": "stream",
          "name": "stdout",
          "text": [
            "[4 5 6 4 5]\n",
            "[10  4  5  6  4  5]\n",
            "[ 4  5 10  6  4  5]\n"
          ]
        }
      ]
    },
    {
      "cell_type": "code",
      "metadata": {
        "id": "akZ7wMoPUdZt",
        "colab": {
          "base_uri": "https://localhost:8080/"
        },
        "outputId": "050bea70-b623-472d-d5ff-a56e23e814c9"
      },
      "source": [
        "print(a2)\n",
        "b2 = np.insert(a2, 1, 10, axis=0)\n",
        "print(b2)\n",
        "c2 = np.insert(a2, 1, 10, axis=1)\n",
        "print(c2)"
      ],
      "execution_count": null,
      "outputs": [
        {
          "output_type": "stream",
          "name": "stdout",
          "text": [
            "[[1 2 3]\n",
            " [4 5 6]\n",
            " [7 8 9]]\n",
            "[[ 1  2  3]\n",
            " [10 10 10]\n",
            " [ 4  5  6]\n",
            " [ 7  8  9]]\n",
            "[[ 1 10  2  3]\n",
            " [ 4 10  5  6]\n",
            " [ 7 10  8  9]]\n"
          ]
        }
      ]
    },
    {
      "cell_type": "markdown",
      "metadata": {
        "id": "ohoeBF_aVSAG"
      },
      "source": [
        "- 배열의 인덱싱으로 접근하여 값 수정"
      ]
    },
    {
      "cell_type": "code",
      "metadata": {
        "id": "l6LLuJH5VXlB",
        "colab": {
          "base_uri": "https://localhost:8080/"
        },
        "outputId": "e93daa68-2180-4ec4-9e28-dc7715f995fa"
      },
      "source": [
        "print(a1)\n",
        "a1[0] = 1\n",
        "a1[1] = 2\n",
        "a1[2] = 3\n",
        "print(a1)\n",
        "a1[:1] = 9\n",
        "print(a1)\n",
        "i = np.array([1, 3, 4])\n",
        "a1[i] = 0\n",
        "print(a1)\n",
        "a1[i] += 4\n",
        "print(a1)"
      ],
      "execution_count": null,
      "outputs": [
        {
          "output_type": "stream",
          "name": "stdout",
          "text": [
            "[4 5 6 4 5]\n",
            "[1 2 3 4 5]\n",
            "[9 2 3 4 5]\n",
            "[9 0 3 0 0]\n",
            "[9 4 3 4 4]\n"
          ]
        }
      ]
    },
    {
      "cell_type": "markdown",
      "metadata": {
        "id": "hpV9yYpuWaHf"
      },
      "source": [
        "\n",
        "# 배열 값 삭제\n",
        "\n",
        "\n"
      ]
    },
    {
      "cell_type": "markdown",
      "metadata": {
        "id": "xTKif1WGWoR-"
      },
      "source": [
        "- delete(): 배열의 특정 위치에 값 삭제\n",
        "- axis를 지정하지 않으면 1차원 배열로 변환\n",
        "- 삭제할 방향을 axis로 지정\n",
        "- 원본 배열 변경없이 새로운 배열 변환"
      ]
    },
    {
      "cell_type": "code",
      "metadata": {
        "id": "9pjZb0BAWnA5",
        "colab": {
          "base_uri": "https://localhost:8080/"
        },
        "outputId": "38e29edf-5843-4fbc-fbd2-d3716942cc56"
      },
      "source": [
        "print(a1)\n",
        "b1 = np.delete(a1, 1)\n",
        "print(b1)\n",
        "print(a1)"
      ],
      "execution_count": null,
      "outputs": [
        {
          "output_type": "stream",
          "name": "stdout",
          "text": [
            "[9 4 3 4 4]\n",
            "[9 3 4 4]\n",
            "[9 4 3 4 4]\n"
          ]
        }
      ]
    },
    {
      "cell_type": "code",
      "metadata": {
        "id": "DTr0Gx1NWSxc",
        "colab": {
          "base_uri": "https://localhost:8080/"
        },
        "outputId": "c6a7c5c0-aacd-461d-b14a-154067d88ea3"
      },
      "source": [
        "print(a2)\n",
        "b2 = np.delete(a2, 1, axis=0)\n",
        "print(b2)\n",
        "c2 = np.delete(a2, 1, axis=1)\n",
        "print(c2)"
      ],
      "execution_count": null,
      "outputs": [
        {
          "output_type": "stream",
          "name": "stdout",
          "text": [
            "[[1 1 1]\n",
            " [4 2 6]\n",
            " [7 8 3]]\n",
            "[[1 1 1]\n",
            " [7 8 3]]\n",
            "[[1 1]\n",
            " [4 6]\n",
            " [7 3]]\n"
          ]
        }
      ]
    },
    {
      "cell_type": "markdown",
      "metadata": {
        "id": "_i8a-3jKXS0m"
      },
      "source": [
        "\n",
        "\n",
        "# 배열 복사\n",
        "\n"
      ]
    },
    {
      "cell_type": "markdown",
      "metadata": {
        "id": "HSbqeRojXYnx"
      },
      "source": [
        "- 리스트 자료형과 달리 배열의 슬라이스는 복사본이 아님"
      ]
    },
    {
      "cell_type": "code",
      "metadata": {
        "id": "8gG4th7TXR3i",
        "colab": {
          "base_uri": "https://localhost:8080/"
        },
        "outputId": "84dde399-69e1-4e83-b176-35154fd14a3e"
      },
      "source": [
        "print(a2)\n",
        "print(a2[:2, :2])\n",
        "a2_sub = a2[:2, :2]\n",
        "print(a2_sub)\n",
        "a2_sub[:, 1] = 0\n",
        "print(a2_sub)\n",
        "print(a2)"
      ],
      "execution_count": null,
      "outputs": [
        {
          "output_type": "stream",
          "name": "stdout",
          "text": [
            "[[1 1 1]\n",
            " [4 2 6]\n",
            " [7 8 3]]\n",
            "[[1 1]\n",
            " [4 2]]\n",
            "[[1 1]\n",
            " [4 2]]\n",
            "[[1 0]\n",
            " [4 0]]\n",
            "[[1 0 1]\n",
            " [4 0 6]\n",
            " [7 8 3]]\n"
          ]
        }
      ]
    },
    {
      "cell_type": "markdown",
      "metadata": {
        "id": "V_-e2_WMXdTq"
      },
      "source": [
        "- copy(): 배열이나 하위 배열 내의 값을 명시적으로 복사"
      ]
    },
    {
      "cell_type": "code",
      "metadata": {
        "id": "9rJ-c5s3Xdco",
        "colab": {
          "base_uri": "https://localhost:8080/"
        },
        "outputId": "82080562-ac0c-4c8e-df4b-79459d304084"
      },
      "source": [
        "print(a2)\n",
        "a2_sub_copy = a2[:2, :2].copy()\n",
        "print(a2_sub_copy)\n",
        "a2_sub_copy[:, 1] = 1\n",
        "print(a2_sub_copy)\n",
        "print(a2)"
      ],
      "execution_count": null,
      "outputs": [
        {
          "output_type": "stream",
          "name": "stdout",
          "text": [
            "[[1 0 1]\n",
            " [4 0 6]\n",
            " [7 8 3]]\n",
            "[[1 0]\n",
            " [4 0]]\n",
            "[[1 1]\n",
            " [4 1]]\n",
            "[[1 0 1]\n",
            " [4 0 6]\n",
            " [7 8 3]]\n"
          ]
        }
      ]
    },
    {
      "cell_type": "markdown",
      "metadata": {
        "id": "WbeevZQzYBG8"
      },
      "source": [
        "\n",
        "# 배열 전치 및 축 변경\n"
      ]
    },
    {
      "cell_type": "code",
      "metadata": {
        "id": "5vfKOZWlYF6N",
        "colab": {
          "base_uri": "https://localhost:8080/"
        },
        "outputId": "20030ead-c7d1-4a2a-8eaa-9b002fb845db"
      },
      "source": [
        "print(a2)\n",
        "print(a2.T)"
      ],
      "execution_count": null,
      "outputs": [
        {
          "output_type": "stream",
          "name": "stdout",
          "text": [
            "[[1 0 1]\n",
            " [4 0 6]\n",
            " [7 8 3]]\n",
            "[[1 4 7]\n",
            " [0 0 8]\n",
            " [1 6 3]]\n"
          ]
        }
      ]
    },
    {
      "cell_type": "code",
      "metadata": {
        "id": "NXM08DBHYY7f",
        "colab": {
          "base_uri": "https://localhost:8080/"
        },
        "outputId": "d4dca3d9-80fb-4b9a-8a04-3cd5b883dbfe"
      },
      "source": [
        "print(a3)\n",
        "print(a3.T)"
      ],
      "execution_count": null,
      "outputs": [
        {
          "output_type": "stream",
          "name": "stdout",
          "text": [
            "[[[1 2 3]\n",
            "  [4 5 6]\n",
            "  [7 8 9]]\n",
            "\n",
            " [[1 2 3]\n",
            "  [4 5 6]\n",
            "  [7 8 9]]\n",
            "\n",
            " [[1 2 3]\n",
            "  [4 5 6]\n",
            "  [7 8 9]]]\n",
            "[[[1 1 1]\n",
            "  [4 4 4]\n",
            "  [7 7 7]]\n",
            "\n",
            " [[2 2 2]\n",
            "  [5 5 5]\n",
            "  [8 8 8]]\n",
            "\n",
            " [[3 3 3]\n",
            "  [6 6 6]\n",
            "  [9 9 9]]]\n"
          ]
        }
      ]
    },
    {
      "cell_type": "code",
      "metadata": {
        "id": "1H0L7l4sYe45",
        "colab": {
          "base_uri": "https://localhost:8080/"
        },
        "outputId": "35ed8ee8-db64-468c-d14c-82b8de29c57e"
      },
      "source": [
        "print(a2)\n",
        "print(a2.swapaxes(1, 0))"
      ],
      "execution_count": null,
      "outputs": [
        {
          "output_type": "stream",
          "name": "stdout",
          "text": [
            "[[1 0 1]\n",
            " [4 0 6]\n",
            " [7 8 3]]\n",
            "[[1 4 7]\n",
            " [0 0 8]\n",
            " [1 6 3]]\n"
          ]
        }
      ]
    },
    {
      "cell_type": "code",
      "metadata": {
        "id": "bY7yjwvQYkZV",
        "colab": {
          "base_uri": "https://localhost:8080/"
        },
        "outputId": "e2dff852-e443-4905-c983-f0010e77f761"
      },
      "source": [
        "print(a3)\n",
        "print(a3.swapaxes(0, 1))"
      ],
      "execution_count": null,
      "outputs": [
        {
          "output_type": "stream",
          "name": "stdout",
          "text": [
            "[[[1 2 3]\n",
            "  [4 5 6]\n",
            "  [7 8 9]]\n",
            "\n",
            " [[1 2 3]\n",
            "  [4 5 6]\n",
            "  [7 8 9]]\n",
            "\n",
            " [[1 2 3]\n",
            "  [4 5 6]\n",
            "  [7 8 9]]]\n",
            "[[[1 2 3]\n",
            "  [1 2 3]\n",
            "  [1 2 3]]\n",
            "\n",
            " [[4 5 6]\n",
            "  [4 5 6]\n",
            "  [4 5 6]]\n",
            "\n",
            " [[7 8 9]\n",
            "  [7 8 9]\n",
            "  [7 8 9]]]\n"
          ]
        }
      ]
    },
    {
      "cell_type": "markdown",
      "metadata": {
        "id": "LDlRXK7VYubi"
      },
      "source": [
        "\n",
        "\n",
        "# 배열 재구조화\n",
        "\n"
      ]
    },
    {
      "cell_type": "markdown",
      "metadata": {
        "id": "BwdQoZZBY0yo"
      },
      "source": [
        "- reshape(): 배열의 형상을 변경"
      ]
    },
    {
      "cell_type": "code",
      "metadata": {
        "id": "yy3PR0xXYzQH",
        "colab": {
          "base_uri": "https://localhost:8080/"
        },
        "outputId": "283b9a9b-ec4c-4249-87cf-de0ee30e711b"
      },
      "source": [
        "n1 = np.arange(1, 10)\n",
        "print(n1)\n",
        "print(n1.reshape(3, 3))"
      ],
      "execution_count": null,
      "outputs": [
        {
          "output_type": "stream",
          "name": "stdout",
          "text": [
            "[1 2 3 4 5 6 7 8 9]\n",
            "[[1 2 3]\n",
            " [4 5 6]\n",
            " [7 8 9]]\n"
          ]
        }
      ]
    },
    {
      "cell_type": "markdown",
      "metadata": {
        "id": "ijZKQedpZZ2U"
      },
      "source": [
        "\n",
        "# 배열 크기 변경\n"
      ]
    },
    {
      "cell_type": "markdown",
      "metadata": {
        "id": "eQCtPD2pZgiQ"
      },
      "source": [
        "- 배열 모양만 변경"
      ]
    },
    {
      "cell_type": "code",
      "metadata": {
        "id": "cS7RXFWAY0Hz",
        "colab": {
          "base_uri": "https://localhost:8080/"
        },
        "outputId": "3e3b4e62-1b5b-408c-be14-2dd5d9c09233"
      },
      "source": [
        "n2 = np.random.randint(0, 10, (2, 5))\n",
        "print(n2)\n",
        "n2.resize((5, 2))\n",
        "print(n2)"
      ],
      "execution_count": null,
      "outputs": [
        {
          "output_type": "stream",
          "name": "stdout",
          "text": [
            "[[2 9 2 3 8]\n",
            " [8 1 6 9 3]]\n",
            "[[2 9]\n",
            " [2 3]\n",
            " [8 8]\n",
            " [1 6]\n",
            " [9 3]]\n"
          ]
        }
      ]
    },
    {
      "cell_type": "markdown",
      "metadata": {
        "id": "ROPnqM1DZ1Do"
      },
      "source": [
        "- 배열 크기 증가\n",
        "- 남은 공간은 0으로 채워짐"
      ]
    },
    {
      "cell_type": "markdown",
      "metadata": {
        "id": "sIhxG8fHaS2y"
      },
      "source": [
        "\n",
        "# 배열 추가\n",
        "\n"
      ]
    },
    {
      "cell_type": "markdown",
      "metadata": {
        "id": "oyD2ftGhaZtT"
      },
      "source": [
        "- append(): 배열의 끝에 값 추가"
      ]
    },
    {
      "cell_type": "markdown",
      "metadata": {
        "id": "bFJUBVAtaxK7"
      },
      "source": [
        "- axis 지정이 없으면 1차원 배열 형태로 변형되어 결합"
      ]
    },
    {
      "cell_type": "code",
      "metadata": {
        "id": "rdRn6bqUak2a",
        "colab": {
          "base_uri": "https://localhost:8080/"
        },
        "outputId": "e7f19022-b55c-4b55-8cf1-95838bc68392"
      },
      "source": [
        "c2 = np.append(a2, b2)\n",
        "print(c2)"
      ],
      "execution_count": null,
      "outputs": [
        {
          "output_type": "stream",
          "name": "stdout",
          "text": [
            "[1 0 1 4 0 6 7 8 3 1 1 1 7 8 3]\n"
          ]
        }
      ]
    },
    {
      "cell_type": "markdown",
      "metadata": {
        "id": "Z9UtsH8nb7KS"
      },
      "source": [
        "\n",
        "\n",
        "# 배열 연결\n",
        "\n"
      ]
    },
    {
      "cell_type": "markdown",
      "metadata": {
        "id": "CU-AubbmbVli"
      },
      "source": [
        "- concatenate(): 튜플이나 배열의 리스트를 인수로 사용해 배열 연결"
      ]
    },
    {
      "cell_type": "code",
      "metadata": {
        "colab": {
          "base_uri": "https://localhost:8080/"
        },
        "id": "5-n_jH-9dSb1",
        "outputId": "0c822743-a2d2-42a5-ee7a-79a58098928f"
      },
      "source": [
        "a1 = np.array([1, 3, 5])\n",
        "b1 = np.array([2, 4, 6])\n",
        "np.concatenate([a1, b1])"
      ],
      "execution_count": null,
      "outputs": [
        {
          "output_type": "execute_result",
          "data": {
            "text/plain": [
              "array([1, 3, 5, 2, 4, 6])"
            ]
          },
          "metadata": {},
          "execution_count": 61
        }
      ]
    },
    {
      "cell_type": "code",
      "metadata": {
        "id": "Pm56N3iFjUds",
        "colab": {
          "base_uri": "https://localhost:8080/"
        },
        "outputId": "69a287c7-42b9-4060-d87f-45060b4aa9de"
      },
      "source": [
        "c1 = np.array([7, 8, 9])\n",
        "np.concatenate([a1, b1, c1])"
      ],
      "execution_count": null,
      "outputs": [
        {
          "output_type": "execute_result",
          "data": {
            "text/plain": [
              "array([1, 3, 5, 2, 4, 6, 7, 8, 9])"
            ]
          },
          "metadata": {},
          "execution_count": 62
        }
      ]
    },
    {
      "cell_type": "code",
      "metadata": {
        "id": "ipsEmJIrjUW-",
        "colab": {
          "base_uri": "https://localhost:8080/"
        },
        "outputId": "5d14fd62-43cb-4965-8cd5-45340ccacc22"
      },
      "source": [
        "a2 = np.array([[1, 2, 3], \n",
        "               [4, 5, 6]])\n",
        "np.concatenate([a2, a2], axis=1)"
      ],
      "execution_count": null,
      "outputs": [
        {
          "output_type": "execute_result",
          "data": {
            "text/plain": [
              "array([[1, 2, 3, 1, 2, 3],\n",
              "       [4, 5, 6, 4, 5, 6]])"
            ]
          },
          "metadata": {},
          "execution_count": 63
        }
      ]
    },
    {
      "cell_type": "markdown",
      "metadata": {
        "id": "VXBdGUCbqgwM"
      },
      "source": [
        "- vstack(): 수직스택, 1차원으로 연결"
      ]
    },
    {
      "cell_type": "code",
      "metadata": {
        "id": "2em7sBREqmU-",
        "colab": {
          "base_uri": "https://localhost:8080/"
        },
        "outputId": "7df96bd9-1cb3-46c4-a3de-5fe54b26a893"
      },
      "source": [
        "np.vstack([a2, a2])"
      ],
      "execution_count": null,
      "outputs": [
        {
          "output_type": "execute_result",
          "data": {
            "text/plain": [
              "array([[1, 2, 3],\n",
              "       [4, 5, 6],\n",
              "       [1, 2, 3],\n",
              "       [4, 5, 6]])"
            ]
          },
          "metadata": {},
          "execution_count": 64
        }
      ]
    },
    {
      "cell_type": "markdown",
      "metadata": {
        "id": "e0TwQdCSqpyt"
      },
      "source": [
        "- hstack([a2, a2]): 수평 스택, 2차원으로 연결"
      ]
    },
    {
      "cell_type": "code",
      "metadata": {
        "id": "jNJIEH8iqmcx",
        "colab": {
          "base_uri": "https://localhost:8080/"
        },
        "outputId": "5c2e95ff-4386-4732-a08b-5d38333dd95c"
      },
      "source": [
        "np.hstack([a2, a2])"
      ],
      "execution_count": null,
      "outputs": [
        {
          "output_type": "execute_result",
          "data": {
            "text/plain": [
              "array([[1, 2, 3, 1, 2, 3],\n",
              "       [4, 5, 6, 4, 5, 6]])"
            ]
          },
          "metadata": {},
          "execution_count": 65
        }
      ]
    },
    {
      "cell_type": "markdown",
      "metadata": {
        "id": "LwC48-mkq6X4"
      },
      "source": [
        "- dstack(): 깊이 스택, 3차원으로 연결"
      ]
    },
    {
      "cell_type": "code",
      "metadata": {
        "id": "wf1Lfdpuq6gP",
        "colab": {
          "base_uri": "https://localhost:8080/"
        },
        "outputId": "157d2de6-021f-4c0e-f171-420a67b2fe59"
      },
      "source": [
        "np.dstack([a2, a2])"
      ],
      "execution_count": null,
      "outputs": [
        {
          "output_type": "execute_result",
          "data": {
            "text/plain": [
              "array([[[1, 1],\n",
              "        [2, 2],\n",
              "        [3, 3]],\n",
              "\n",
              "       [[4, 4],\n",
              "        [5, 5],\n",
              "        [6, 6]]])"
            ]
          },
          "metadata": {},
          "execution_count": 66
        }
      ]
    },
    {
      "cell_type": "markdown",
      "metadata": {
        "id": "hHMMuHiFrDVI"
      },
      "source": [
        "- stack(): 새로운 차원으로 연결"
      ]
    },
    {
      "cell_type": "code",
      "metadata": {
        "id": "KARaAXh1rDcs",
        "colab": {
          "base_uri": "https://localhost:8080/"
        },
        "outputId": "a9a2bb04-76a6-4eac-9a59-fb5e7c102135"
      },
      "source": [
        "np.stack([a2, a2])"
      ],
      "execution_count": null,
      "outputs": [
        {
          "output_type": "execute_result",
          "data": {
            "text/plain": [
              "array([[[1, 2, 3],\n",
              "        [4, 5, 6]],\n",
              "\n",
              "       [[1, 2, 3],\n",
              "        [4, 5, 6]]])"
            ]
          },
          "metadata": {},
          "execution_count": 67
        }
      ]
    },
    {
      "cell_type": "markdown",
      "metadata": {
        "id": "myr4xijWrKag"
      },
      "source": [
        "\n",
        "# 배열 분할\n",
        "\n"
      ]
    },
    {
      "cell_type": "markdown",
      "metadata": {
        "id": "G3KwQCBgrYCl"
      },
      "source": [
        "- split():배열 분할"
      ]
    },
    {
      "cell_type": "code",
      "metadata": {
        "id": "OgNIV0QjrWDc",
        "colab": {
          "base_uri": "https://localhost:8080/"
        },
        "outputId": "805b2b04-4e6d-43d7-a843-3c7157b80405"
      },
      "source": [
        "a1 = np.arange(0, 10)\n",
        "print(a1)\n",
        "b1, c1 = np.split(a1, [5])\n",
        "print(b1, c1)\n",
        "b1, c1, d1, e1, f1 = np.split(a1, [2, 4, 6, 8])\n",
        "print(b1, c1, d1, e1, f1)"
      ],
      "execution_count": null,
      "outputs": [
        {
          "output_type": "stream",
          "name": "stdout",
          "text": [
            "[0 1 2 3 4 5 6 7 8 9]\n",
            "[0 1 2 3 4] [5 6 7 8 9]\n",
            "[0 1] [2 3] [4 5] [6 7] [8 9]\n"
          ]
        }
      ]
    },
    {
      "cell_type": "markdown",
      "metadata": {
        "id": "3p69hSW1rbum"
      },
      "source": [
        "- vsplit(): 수직 분할, 1차원으로 분할"
      ]
    },
    {
      "cell_type": "code",
      "metadata": {
        "id": "-SHqIKx9rb_b",
        "colab": {
          "base_uri": "https://localhost:8080/"
        },
        "outputId": "231d4d13-9e3d-4627-e254-529dde2e534c"
      },
      "source": [
        "a2 = np.arange(1, 10).reshape(3, 3)\n",
        "print(a2)\n",
        "b2, c2 = np.vsplit(a2, [2])\n",
        "print(b2)\n",
        "print(c2)"
      ],
      "execution_count": null,
      "outputs": [
        {
          "output_type": "stream",
          "name": "stdout",
          "text": [
            "[[1 2 3]\n",
            " [4 5 6]\n",
            " [7 8 9]]\n",
            "[[1 2 3]\n",
            " [4 5 6]]\n",
            "[[7 8 9]]\n"
          ]
        }
      ]
    },
    {
      "cell_type": "markdown",
      "metadata": {
        "id": "jPkVBJskr9u2"
      },
      "source": [
        "- hsplit(): 수평 분할, 2차원으로 분할"
      ]
    },
    {
      "cell_type": "code",
      "metadata": {
        "id": "cC-72Mxsr94e",
        "colab": {
          "base_uri": "https://localhost:8080/"
        },
        "outputId": "68b6b4d0-a5f0-4dcd-e9ec-e9416c80cbd2"
      },
      "source": [
        "a2 = np.arange(1, 10).reshape(3, 3)\n",
        "print(a2)\n",
        "b2, c2 = np.hsplit(a2, [2])\n",
        "print(b2)\n",
        "print(c2)"
      ],
      "execution_count": null,
      "outputs": [
        {
          "output_type": "stream",
          "name": "stdout",
          "text": [
            "[[1 2 3]\n",
            " [4 5 6]\n",
            " [7 8 9]]\n",
            "[[1 2]\n",
            " [4 5]\n",
            " [7 8]]\n",
            "[[3]\n",
            " [6]\n",
            " [9]]\n"
          ]
        }
      ]
    },
    {
      "cell_type": "markdown",
      "metadata": {
        "id": "HMP8pvzusfBs"
      },
      "source": [
        "- dsplit(): 깊이 분할, 3차원으로 분할"
      ]
    },
    {
      "cell_type": "code",
      "metadata": {
        "id": "-WOrs8bMsfJb",
        "colab": {
          "base_uri": "https://localhost:8080/"
        },
        "outputId": "31baa4b8-1ed0-4ec0-ec67-942f39e71aef"
      },
      "source": [
        "a2 = np.arange(1, 28).reshape(3, 3, 3)\n",
        "print(a3)\n",
        "b3, c3 = np.vsplit(a3, [2])\n",
        "print(b3)\n",
        "print(c3)"
      ],
      "execution_count": null,
      "outputs": [
        {
          "output_type": "stream",
          "name": "stdout",
          "text": [
            "[[[1 2 3]\n",
            "  [4 5 6]\n",
            "  [7 8 9]]\n",
            "\n",
            " [[1 2 3]\n",
            "  [4 5 6]\n",
            "  [7 8 9]]\n",
            "\n",
            " [[1 2 3]\n",
            "  [4 5 6]\n",
            "  [7 8 9]]]\n",
            "[[[1 2 3]\n",
            "  [4 5 6]\n",
            "  [7 8 9]]\n",
            "\n",
            " [[1 2 3]\n",
            "  [4 5 6]\n",
            "  [7 8 9]]]\n",
            "[[[1 2 3]\n",
            "  [4 5 6]\n",
            "  [7 8 9]]]\n"
          ]
        }
      ]
    },
    {
      "cell_type": "markdown",
      "metadata": {
        "id": "t105fZk5NU6I"
      },
      "source": [
        "\n",
        "# 배열 연산\n"
      ]
    },
    {
      "cell_type": "markdown",
      "metadata": {
        "id": "y0FfiULaNaiG"
      },
      "source": [
        "- NumpPy의 배열 연산은 벡터화 연산을 사용\n",
        "- 일반적으로 NumPy의 범용 함수를 통해 구현\n",
        "- 배열 요소에 대한 반복적인 계산을 효율적으로 수행"
      ]
    },
    {
      "cell_type": "markdown",
      "metadata": {
        "id": "cHtT2lCWNlt6"
      },
      "source": [
        "\n",
        "# 브로드캐스팅\n"
      ]
    },
    {
      "cell_type": "code",
      "metadata": {
        "id": "E6GUuac3rcgb",
        "colab": {
          "base_uri": "https://localhost:8080/"
        },
        "outputId": "c73aabd5-d6fb-4456-8899-a4d70212de73"
      },
      "source": [
        "a1 = np.array([1, 2, 3])\n",
        "print(a1)\n",
        "print(a1 + 5)\n",
        "\n",
        "a2 = np.arange(1, 10).reshape(3, 3)\n",
        "print(a2)\n",
        "print(a1 + a2)\n",
        "\n",
        "b2 = np.array([1, 2, 3]).reshape(3, 1)\n",
        "print(b2)\n",
        "print(a1 + b2)"
      ],
      "execution_count": null,
      "outputs": [
        {
          "output_type": "stream",
          "name": "stdout",
          "text": [
            "[1 2 3]\n",
            "[6 7 8]\n",
            "[[1 2 3]\n",
            " [4 5 6]\n",
            " [7 8 9]]\n",
            "[[ 2  4  6]\n",
            " [ 5  7  9]\n",
            " [ 8 10 12]]\n",
            "[[1]\n",
            " [2]\n",
            " [3]]\n",
            "[[2 3 4]\n",
            " [3 4 5]\n",
            " [4 5 6]]\n"
          ]
        }
      ]
    },
    {
      "cell_type": "markdown",
      "metadata": {
        "id": "l8CLO43wOjQM"
      },
      "source": [
        "\n",
        "# 산술 연산\n"
      ]
    },
    {
      "cell_type": "code",
      "metadata": {
        "id": "u2-G9SDmOqAq",
        "colab": {
          "base_uri": "https://localhost:8080/"
        },
        "outputId": "8f436297-101b-4871-c7df-ca38ce140345"
      },
      "source": [
        "a1 = np.arange(1, 10)\n",
        "print(a1)\n",
        "b1 = np.random.randint(1, 10, size=9)\n",
        "print(b1)\n",
        "print(a1 + b1)\n",
        "print(a1 - b1)\n",
        "print(a1 * b1)\n",
        "print(a1 / b1)\n",
        "print(a1 // b1)\n",
        "print(a1 ** b1)\n",
        "print(a1 % b1)"
      ],
      "execution_count": null,
      "outputs": [
        {
          "output_type": "stream",
          "name": "stdout",
          "text": [
            "[1 2 3 4 5 6 7 8 9]\n",
            "[9 6 2 6 5 5 5 5 9]\n",
            "[10  8  5 10 10 11 12 13 18]\n",
            "[-8 -4  1 -2  0  1  2  3  0]\n",
            "[ 9 12  6 24 25 30 35 40 81]\n",
            "[0.11111111 0.33333333 1.5        0.66666667 1.         1.2\n",
            " 1.4        1.6        1.        ]\n",
            "[0 0 1 0 1 1 1 1 1]\n",
            "[        1        64         9      4096      3125      7776     16807\n",
            "     32768 387420489]\n",
            "[1 2 1 4 0 1 2 3 0]\n"
          ]
        }
      ]
    },
    {
      "cell_type": "code",
      "metadata": {
        "id": "-0FflU0fOqIG",
        "colab": {
          "base_uri": "https://localhost:8080/"
        },
        "outputId": "83a90b8f-11e8-4ce5-de2f-e1da2efe493e"
      },
      "source": [
        "a2 = np.arange(1, 10).reshape(3, 3)\n",
        "print(a2)\n",
        "b2 = np.random.randint(1, 10, size=(3, 3))\n",
        "print(b2)\n",
        "print(a2 + b2)\n",
        "print(a2 - b2)\n",
        "print(a2 * b2)\n",
        "print(a2 / b2)\n",
        "print(a2 // b2)\n",
        "print(a2 ** b2)\n",
        "print(a2 % b2)"
      ],
      "execution_count": null,
      "outputs": [
        {
          "output_type": "stream",
          "name": "stdout",
          "text": [
            "[[1 2 3]\n",
            " [4 5 6]\n",
            " [7 8 9]]\n",
            "[[6 1 3]\n",
            " [4 3 8]\n",
            " [2 2 5]]\n",
            "[[ 7  3  6]\n",
            " [ 8  8 14]\n",
            " [ 9 10 14]]\n",
            "[[-5  1  0]\n",
            " [ 0  2 -2]\n",
            " [ 5  6  4]]\n",
            "[[ 6  2  9]\n",
            " [16 15 48]\n",
            " [14 16 45]]\n",
            "[[0.16666667 2.         1.        ]\n",
            " [1.         1.66666667 0.75      ]\n",
            " [3.5        4.         1.8       ]]\n",
            "[[0 2 1]\n",
            " [1 1 0]\n",
            " [3 4 1]]\n",
            "[[      1       2      27]\n",
            " [    256     125 1679616]\n",
            " [     49      64   59049]]\n",
            "[[1 0 0]\n",
            " [0 2 6]\n",
            " [1 0 4]]\n"
          ]
        }
      ]
    },
    {
      "cell_type": "markdown",
      "metadata": {
        "id": "9W8m5jqgQ9CU"
      },
      "source": [
        "\n",
        "# 절대값 함수\n"
      ]
    },
    {
      "cell_type": "markdown",
      "metadata": {
        "id": "TcJrBGklRDbV"
      },
      "source": [
        "- absolute(), abs(): 내장된 절대값 함수"
      ]
    },
    {
      "cell_type": "code",
      "metadata": {
        "id": "7LFJIlM0REAZ",
        "colab": {
          "base_uri": "https://localhost:8080/"
        },
        "outputId": "0c24f3d6-055a-4dda-cb2e-07f708d5bc4e"
      },
      "source": [
        "a1 = np.random.randint(-10, 10, size=5)\n",
        "print(a1)\n",
        "print(np.absolute(a1))\n",
        "print(np.abs(a1))"
      ],
      "execution_count": null,
      "outputs": [
        {
          "output_type": "stream",
          "name": "stdout",
          "text": [
            "[ 1  5  4 -3  5]\n",
            "[1 5 4 3 5]\n",
            "[1 5 4 3 5]\n"
          ]
        }
      ]
    },
    {
      "cell_type": "markdown",
      "metadata": {
        "id": "tkN5ShMBRSxF"
      },
      "source": [
        "\n",
        "# 제곱/제곱급 함수\n"
      ]
    },
    {
      "cell_type": "markdown",
      "metadata": {
        "id": "-DT7wCkZRYar"
      },
      "source": [
        "- square, sqrt: 제곱, 제곱근 함수"
      ]
    },
    {
      "cell_type": "code",
      "metadata": {
        "id": "f8zrtrj3RCrf",
        "colab": {
          "base_uri": "https://localhost:8080/"
        },
        "outputId": "fcf9702e-119d-4941-e3dc-3579aa44f3a4"
      },
      "source": [
        "print(a1)\n",
        "print(np.square(a1))\n",
        "print(np.sqrt(a1))"
      ],
      "execution_count": null,
      "outputs": [
        {
          "output_type": "stream",
          "name": "stdout",
          "text": [
            "[ 1  5  4 -3  5]\n",
            "[ 1 25 16  9 25]\n",
            "[1.         2.23606798 2.                nan 2.23606798]\n"
          ]
        },
        {
          "output_type": "stream",
          "name": "stderr",
          "text": [
            "/usr/local/lib/python3.7/dist-packages/ipykernel_launcher.py:3: RuntimeWarning: invalid value encountered in sqrt\n",
            "  This is separate from the ipykernel package so we can avoid doing imports until\n"
          ]
        }
      ]
    },
    {
      "cell_type": "markdown",
      "metadata": {
        "id": "2wtCduogRj9s"
      },
      "source": [
        "\n",
        "# 지수와 로그 함수"
      ]
    },
    {
      "cell_type": "code",
      "metadata": {
        "id": "o3kMyD_URtAC",
        "colab": {
          "base_uri": "https://localhost:8080/"
        },
        "outputId": "74cdbe0f-c2b7-40c4-c5e6-ab982ca38757"
      },
      "source": [
        "a1 = np.random.randint(1, 10, size=5)\n",
        "print(a1)\n",
        "print(np.exp(a1))\n",
        "print(np.exp2(a1))\n",
        "print(np.power(a1, 2))"
      ],
      "execution_count": null,
      "outputs": [
        {
          "output_type": "stream",
          "name": "stdout",
          "text": [
            "[9 1 9 9 1]\n",
            "[8.10308393e+03 2.71828183e+00 8.10308393e+03 8.10308393e+03\n",
            " 2.71828183e+00]\n",
            "[512.   2. 512. 512.   2.]\n",
            "[81  1 81 81  1]\n"
          ]
        }
      ]
    },
    {
      "cell_type": "code",
      "metadata": {
        "id": "x66zWjxqR4Xu",
        "colab": {
          "base_uri": "https://localhost:8080/"
        },
        "outputId": "0455549e-008e-4138-cd35-6e5fd36f888e"
      },
      "source": [
        "print(a1)\n",
        "print(np.log(a1))\n",
        "print(np.log2(a1))\n",
        "print(np.log10(a1))"
      ],
      "execution_count": null,
      "outputs": [
        {
          "output_type": "stream",
          "name": "stdout",
          "text": [
            "[9 1 9 9 1]\n",
            "[2.19722458 0.         2.19722458 2.19722458 0.        ]\n",
            "[3.169925 0.       3.169925 3.169925 0.      ]\n",
            "[0.95424251 0.         0.95424251 0.95424251 0.        ]\n"
          ]
        }
      ]
    },
    {
      "cell_type": "markdown",
      "metadata": {
        "id": "BeHCNs_iRsdu"
      },
      "source": [
        "\n",
        "# 집계 함수\n"
      ]
    },
    {
      "cell_type": "markdown",
      "metadata": {
        "id": "HY6o0-8c7FA6"
      },
      "source": [
        "- cumsum(): 누적합 계산"
      ]
    },
    {
      "cell_type": "code",
      "metadata": {
        "id": "KQ9M4X0X7FZz",
        "colab": {
          "base_uri": "https://localhost:8080/"
        },
        "outputId": "e42d1e90-728b-4cd0-d4a6-6b14c536e798"
      },
      "source": [
        "print(a2)\n",
        "print(np.cumsum(a2))\n",
        "print(np.cumsum(a2, axis=0))\n",
        "print(np.cumsum(a2, axis=1))"
      ],
      "execution_count": null,
      "outputs": [
        {
          "output_type": "stream",
          "name": "stdout",
          "text": [
            "[[1 2 3]\n",
            " [4 5 6]\n",
            " [7 8 9]]\n",
            "[ 1  3  6 10 15 21 28 36 45]\n",
            "[[ 1  2  3]\n",
            " [ 5  7  9]\n",
            " [12 15 18]]\n",
            "[[ 1  3  6]\n",
            " [ 4  9 15]\n",
            " [ 7 15 24]]\n"
          ]
        }
      ]
    },
    {
      "cell_type": "markdown",
      "metadata": {
        "id": "ZksCux0G7X8n"
      },
      "source": [
        "- diff(): 차분 계산"
      ]
    },
    {
      "cell_type": "code",
      "metadata": {
        "id": "3d_4RVW97YSK",
        "colab": {
          "base_uri": "https://localhost:8080/"
        },
        "outputId": "76befe0c-1b78-4e2b-eca5-4b301a945393"
      },
      "source": [
        "print(a2)\n",
        "print(np.diff(a2))\n",
        "print(np.diff(a2, axis=0))\n",
        "print(np.diff(a2, axis=0))"
      ],
      "execution_count": null,
      "outputs": [
        {
          "output_type": "stream",
          "name": "stdout",
          "text": [
            "[[1 2 3]\n",
            " [4 5 6]\n",
            " [7 8 9]]\n",
            "[[1 1]\n",
            " [1 1]\n",
            " [1 1]]\n",
            "[[3 3 3]\n",
            " [3 3 3]]\n",
            "[[3 3 3]\n",
            " [3 3 3]]\n"
          ]
        }
      ]
    },
    {
      "cell_type": "markdown",
      "metadata": {
        "id": "E4mpCkle7qKg"
      },
      "source": [
        "- prod(): 곱 계산"
      ]
    },
    {
      "cell_type": "code",
      "metadata": {
        "id": "aC0PFnc37qhs",
        "colab": {
          "base_uri": "https://localhost:8080/"
        },
        "outputId": "c3edf175-1d37-40e3-e972-68e6df1ca475"
      },
      "source": [
        "print(a2)\n",
        "print(np.prod(a2))\n",
        "print(np.prod(a2, axis=0))\n",
        "print(np.prod(a2, axis=0))"
      ],
      "execution_count": null,
      "outputs": [
        {
          "output_type": "stream",
          "name": "stdout",
          "text": [
            "[[1 2 3]\n",
            " [4 5 6]\n",
            " [7 8 9]]\n",
            "362880\n",
            "[ 28  80 162]\n",
            "[ 28  80 162]\n"
          ]
        }
      ]
    },
    {
      "cell_type": "markdown",
      "metadata": {
        "id": "vVuIh-sD7yv1"
      },
      "source": [
        "- cumprod(): 누적곱 계산\n"
      ]
    },
    {
      "cell_type": "code",
      "metadata": {
        "id": "PT5XHZrZ7y9S",
        "colab": {
          "base_uri": "https://localhost:8080/"
        },
        "outputId": "244d0676-437f-4714-906f-70befec52d0a"
      },
      "source": [
        "print(a2)\n",
        "print(np.cumprod(a2))\n",
        "print(np.cumprod(a2, axis=0))\n",
        "print(np.cumprod(a2, axis=0))"
      ],
      "execution_count": null,
      "outputs": [
        {
          "output_type": "stream",
          "name": "stdout",
          "text": [
            "[[1 2 3]\n",
            " [4 5 6]\n",
            " [7 8 9]]\n",
            "[     1      2      6     24    120    720   5040  40320 362880]\n",
            "[[  1   2   3]\n",
            " [  4  10  18]\n",
            " [ 28  80 162]]\n",
            "[[  1   2   3]\n",
            " [  4  10  18]\n",
            " [ 28  80 162]]\n"
          ]
        }
      ]
    },
    {
      "cell_type": "markdown",
      "metadata": {
        "id": "bdm3NtQy8EXN"
      },
      "source": [
        "- dot()/matmul():점곱/행렬곱계산"
      ]
    },
    {
      "cell_type": "code",
      "metadata": {
        "id": "ktQyhv7Y8Ek-",
        "colab": {
          "base_uri": "https://localhost:8080/"
        },
        "outputId": "5469d0d9-a43e-46b5-ae51-f594b9973b40"
      },
      "source": [
        "print(a2)\n",
        "b2 = np.ones_like(a2)\n",
        "print(b2)\n",
        "print(np.dot(a2, b2))\n",
        "print(np.matmul(a2, b2))"
      ],
      "execution_count": null,
      "outputs": [
        {
          "output_type": "stream",
          "name": "stdout",
          "text": [
            "[[1 2 3]\n",
            " [4 5 6]\n",
            " [7 8 9]]\n",
            "[[1 1 1]\n",
            " [1 1 1]\n",
            " [1 1 1]]\n",
            "[[ 6  6  6]\n",
            " [15 15 15]\n",
            " [24 24 24]]\n",
            "[[ 6  6  6]\n",
            " [15 15 15]\n",
            " [24 24 24]]\n"
          ]
        }
      ]
    },
    {
      "cell_type": "markdown",
      "metadata": {
        "id": "f7VkX5eKpfVt"
      },
      "source": [
        "- tensordot(): 텐서곱 계산"
      ]
    },
    {
      "cell_type": "code",
      "metadata": {
        "id": "6xvFZhilpfvu",
        "colab": {
          "base_uri": "https://localhost:8080/"
        },
        "outputId": "3ca90bd1-f55a-434e-b49f-e5392e2dc78f"
      },
      "source": [
        "print(a2)\n",
        "print(b2)\n",
        "print(np.tensordot(a2, b2))\n",
        "print(np.tensordot(a2, b2, axes = 0))\n",
        "print(np.tensordot(a2, b2, axes = 1))"
      ],
      "execution_count": null,
      "outputs": [
        {
          "output_type": "stream",
          "name": "stdout",
          "text": [
            "[[1 2 3]\n",
            " [4 5 6]\n",
            " [7 8 9]]\n",
            "[[1 1 1]\n",
            " [1 1 1]\n",
            " [1 1 1]]\n",
            "45\n",
            "[[[[1 1 1]\n",
            "   [1 1 1]\n",
            "   [1 1 1]]\n",
            "\n",
            "  [[2 2 2]\n",
            "   [2 2 2]\n",
            "   [2 2 2]]\n",
            "\n",
            "  [[3 3 3]\n",
            "   [3 3 3]\n",
            "   [3 3 3]]]\n",
            "\n",
            "\n",
            " [[[4 4 4]\n",
            "   [4 4 4]\n",
            "   [4 4 4]]\n",
            "\n",
            "  [[5 5 5]\n",
            "   [5 5 5]\n",
            "   [5 5 5]]\n",
            "\n",
            "  [[6 6 6]\n",
            "   [6 6 6]\n",
            "   [6 6 6]]]\n",
            "\n",
            "\n",
            " [[[7 7 7]\n",
            "   [7 7 7]\n",
            "   [7 7 7]]\n",
            "\n",
            "  [[8 8 8]\n",
            "   [8 8 8]\n",
            "   [8 8 8]]\n",
            "\n",
            "  [[9 9 9]\n",
            "   [9 9 9]\n",
            "   [9 9 9]]]]\n",
            "[[ 6  6  6]\n",
            " [15 15 15]\n",
            " [24 24 24]]\n"
          ]
        }
      ]
    },
    {
      "cell_type": "markdown",
      "metadata": {
        "id": "ZLwwqiP8pgIC"
      },
      "source": [
        "- cross(): 벡터곱"
      ]
    },
    {
      "cell_type": "code",
      "metadata": {
        "id": "MfPXs2bhpgSh",
        "colab": {
          "base_uri": "https://localhost:8080/"
        },
        "outputId": "90ad1b56-54c3-4395-862a-2d055f44a4f0"
      },
      "source": [
        "x = [1, 2, 3]\n",
        "y = [4, 5, 6]\n",
        "print(np.cross(x, y))"
      ],
      "execution_count": null,
      "outputs": [
        {
          "output_type": "stream",
          "name": "stdout",
          "text": [
            "[-3  6 -3]\n"
          ]
        }
      ]
    },
    {
      "cell_type": "markdown",
      "metadata": {
        "id": "ktIYkSvnqO3T"
      },
      "source": [
        "- inner()/outer(): 내적/외적"
      ]
    },
    {
      "cell_type": "code",
      "metadata": {
        "id": "Z82OKpe7qPC1",
        "colab": {
          "base_uri": "https://localhost:8080/"
        },
        "outputId": "9d55579b-a51a-4e00-f49e-63d9e47f8f36"
      },
      "source": [
        "print(a2)\n",
        "print(b2)\n",
        "print(np.inner(a2, b2))\n",
        "print(np.outer(a2, b2))"
      ],
      "execution_count": null,
      "outputs": [
        {
          "output_type": "stream",
          "name": "stdout",
          "text": [
            "[[1 2 3]\n",
            " [4 5 6]\n",
            " [7 8 9]]\n",
            "[[1 1 1]\n",
            " [1 1 1]\n",
            " [1 1 1]]\n",
            "[[ 6  6  6]\n",
            " [15 15 15]\n",
            " [24 24 24]]\n",
            "[[1 1 1 1 1 1 1 1 1]\n",
            " [2 2 2 2 2 2 2 2 2]\n",
            " [3 3 3 3 3 3 3 3 3]\n",
            " [4 4 4 4 4 4 4 4 4]\n",
            " [5 5 5 5 5 5 5 5 5]\n",
            " [6 6 6 6 6 6 6 6 6]\n",
            " [7 7 7 7 7 7 7 7 7]\n",
            " [8 8 8 8 8 8 8 8 8]\n",
            " [9 9 9 9 9 9 9 9 9]]\n"
          ]
        }
      ]
    },
    {
      "cell_type": "markdown",
      "metadata": {
        "id": "0dhg_oxdqia2"
      },
      "source": [
        "- mean(): 평균 계산"
      ]
    },
    {
      "cell_type": "code",
      "metadata": {
        "id": "3WG5Zjv4qinT",
        "colab": {
          "base_uri": "https://localhost:8080/"
        },
        "outputId": "15925f74-891c-44fa-cc9c-e4cb85eddd6f"
      },
      "source": [
        "print(a2)\n",
        "print(np.mean(a2))\n",
        "print(np.mean(a2, axis=0))\n",
        "print(np.mean(a2, axis=1))"
      ],
      "execution_count": null,
      "outputs": [
        {
          "output_type": "stream",
          "name": "stdout",
          "text": [
            "[[1 2 3]\n",
            " [4 5 6]\n",
            " [7 8 9]]\n",
            "5.0\n",
            "[4. 5. 6.]\n",
            "[2. 5. 8.]\n"
          ]
        }
      ]
    },
    {
      "cell_type": "markdown",
      "metadata": {
        "id": "gSf2goOrqiv7"
      },
      "source": [
        "- std(): 표준 편차 계산"
      ]
    },
    {
      "cell_type": "code",
      "metadata": {
        "id": "0DW0d5lRqi44",
        "colab": {
          "base_uri": "https://localhost:8080/"
        },
        "outputId": "dc249706-3a36-40a9-93dd-8ed1090b0bce"
      },
      "source": [
        "print(a2)\n",
        "print(np.std(a2))\n",
        "print(np.std(a2, axis=0))\n",
        "print(np.std(a2, axis=1))"
      ],
      "execution_count": null,
      "outputs": [
        {
          "output_type": "stream",
          "name": "stdout",
          "text": [
            "[[1 2 3]\n",
            " [4 5 6]\n",
            " [7 8 9]]\n",
            "2.581988897471611\n",
            "[2.44948974 2.44948974 2.44948974]\n",
            "[0.81649658 0.81649658 0.81649658]\n"
          ]
        }
      ]
    },
    {
      "cell_type": "markdown",
      "metadata": {
        "id": "Y213mzilrOac"
      },
      "source": [
        "var(): 분산 계산"
      ]
    },
    {
      "cell_type": "code",
      "metadata": {
        "id": "P5IMu1V8rOlD",
        "colab": {
          "base_uri": "https://localhost:8080/"
        },
        "outputId": "50a2ed8c-4d45-49c6-efcf-8ad4d7c54451"
      },
      "source": [
        "print(a2)\n",
        "print(np.var(a2))\n",
        "print(np.var(a2, axis=0))\n",
        "print(np.var(a2, axis=1))"
      ],
      "execution_count": null,
      "outputs": [
        {
          "output_type": "stream",
          "name": "stdout",
          "text": [
            "[[1 2 3]\n",
            " [4 5 6]\n",
            " [7 8 9]]\n",
            "6.666666666666667\n",
            "[6. 6. 6.]\n",
            "[0.66666667 0.66666667 0.66666667]\n"
          ]
        }
      ]
    },
    {
      "cell_type": "markdown",
      "metadata": {
        "id": "UochK3MPrSar"
      },
      "source": [
        "- min(): 최소값"
      ]
    },
    {
      "cell_type": "code",
      "metadata": {
        "id": "V6Jy-J2WrbHF",
        "colab": {
          "base_uri": "https://localhost:8080/"
        },
        "outputId": "d06b6c64-bba5-4c30-ad80-0043cc2c90ef"
      },
      "source": [
        "print(a2)\n",
        "print(np.min(a2))\n",
        "print(np.min(a2, axis=0))\n",
        "print(np.min(a2, axis=1))"
      ],
      "execution_count": null,
      "outputs": [
        {
          "output_type": "stream",
          "name": "stdout",
          "text": [
            "[[1 2 3]\n",
            " [4 5 6]\n",
            " [7 8 9]]\n",
            "1\n",
            "[1 2 3]\n",
            "[1 4 7]\n"
          ]
        }
      ]
    },
    {
      "cell_type": "markdown",
      "metadata": {
        "id": "KK4X-R8Kra9N"
      },
      "source": [
        "- max(): 최대값"
      ]
    },
    {
      "cell_type": "code",
      "metadata": {
        "id": "QeMJikIvrSm2",
        "colab": {
          "base_uri": "https://localhost:8080/"
        },
        "outputId": "ebb009d2-21ba-4a43-adad-c4085498cfa8"
      },
      "source": [
        "print(a2)\n",
        "print(np.max(a2))\n",
        "print(np.max(a2, axis=0))\n",
        "print(np.max(a2, axis=1))"
      ],
      "execution_count": null,
      "outputs": [
        {
          "output_type": "stream",
          "name": "stdout",
          "text": [
            "[[1 2 3]\n",
            " [4 5 6]\n",
            " [7 8 9]]\n",
            "9\n",
            "[7 8 9]\n",
            "[3 6 9]\n"
          ]
        }
      ]
    },
    {
      "cell_type": "markdown",
      "metadata": {
        "id": "CPEN5eOQs68g"
      },
      "source": [
        "- argmin():최소값 인덱스"
      ]
    },
    {
      "cell_type": "code",
      "metadata": {
        "id": "-OIOdqljvbCJ",
        "colab": {
          "base_uri": "https://localhost:8080/"
        },
        "outputId": "91a8cdc7-e804-4281-945e-74b51f0421ad"
      },
      "source": [
        "print(a2)\n",
        "print(np.argmin(a2))\n",
        "print(np.argmin(a2, axis=0))\n",
        "print(np.argmin(a2, axis=1))"
      ],
      "execution_count": null,
      "outputs": [
        {
          "output_type": "stream",
          "name": "stdout",
          "text": [
            "[[1 2 3]\n",
            " [4 5 6]\n",
            " [7 8 9]]\n",
            "0\n",
            "[0 0 0]\n",
            "[0 0 0]\n"
          ]
        }
      ]
    },
    {
      "cell_type": "markdown",
      "metadata": {
        "id": "UutfjhHmvbO1"
      },
      "source": [
        "- argmax(): 최대값 인덱스"
      ]
    },
    {
      "cell_type": "code",
      "metadata": {
        "id": "mips6kg3vbi7",
        "colab": {
          "base_uri": "https://localhost:8080/"
        },
        "outputId": "5671c89a-05f5-4524-99c8-05deca210649"
      },
      "source": [
        "print(a2)\n",
        "print(np.argmax(a2))\n",
        "print(np.argmax(a2, axis=0))\n",
        "print(np.argmax(a2, axis=1))"
      ],
      "execution_count": null,
      "outputs": [
        {
          "output_type": "stream",
          "name": "stdout",
          "text": [
            "[[1 2 3]\n",
            " [4 5 6]\n",
            " [7 8 9]]\n",
            "8\n",
            "[2 2 2]\n",
            "[2 2 2]\n"
          ]
        }
      ]
    },
    {
      "cell_type": "markdown",
      "metadata": {
        "id": "YzHKnN3Zvbsi"
      },
      "source": [
        "- median(): 중앙값"
      ]
    },
    {
      "cell_type": "code",
      "metadata": {
        "id": "H4usrXA9vb3h",
        "colab": {
          "base_uri": "https://localhost:8080/"
        },
        "outputId": "0e49133a-ea43-4bb2-c8d1-6d57d60ce501"
      },
      "source": [
        "print(a2)\n",
        "print(np.median(a2))\n",
        "print(np.median(a2, axis=0))\n",
        "print(np.median(a2, axis=1))"
      ],
      "execution_count": null,
      "outputs": [
        {
          "output_type": "stream",
          "name": "stdout",
          "text": [
            "[[1 2 3]\n",
            " [4 5 6]\n",
            " [7 8 9]]\n",
            "5.0\n",
            "[4. 5. 6.]\n",
            "[2. 5. 8.]\n"
          ]
        }
      ]
    },
    {
      "cell_type": "markdown",
      "metadata": {
        "id": "IWegFElVwEyp"
      },
      "source": [
        "- percentile(): 백분위 수"
      ]
    },
    {
      "cell_type": "code",
      "metadata": {
        "id": "xTwhmkFewFAk",
        "colab": {
          "base_uri": "https://localhost:8080/"
        },
        "outputId": "8e248548-1651-411e-afcd-1b5604d62281"
      },
      "source": [
        "a1 = np.array([0, 1, 2, 3])\n",
        "print(a1)\n",
        "print(np.percentile(a1, [0, 20, 40, 60, 80, 100], interpolation='linear'))\n",
        "print(np.percentile(a1, [0, 20, 40, 60, 80, 100], interpolation='higher'))\n",
        "print(np.percentile(a1, [0, 20, 40, 60, 80, 100], interpolation='lower'))\n",
        "print(np.percentile(a1, [0, 20, 40, 60, 80, 100], interpolation='nearest'))\n",
        "print(np.percentile(a1, [0, 20, 40, 60, 80, 100], interpolation='midpoint'))"
      ],
      "execution_count": null,
      "outputs": [
        {
          "output_type": "stream",
          "name": "stdout",
          "text": [
            "[0 1 2 3]\n",
            "[0.  0.6 1.2 1.8 2.4 3. ]\n",
            "[0 1 2 2 3 3]\n",
            "[0 0 1 1 2 3]\n",
            "[0 1 1 2 2 3]\n",
            "[0.  0.5 1.5 1.5 2.5 3. ]\n"
          ]
        }
      ]
    },
    {
      "cell_type": "markdown",
      "metadata": {
        "id": "parFzrd7wFLS"
      },
      "source": [
        "- any()"
      ]
    },
    {
      "cell_type": "code",
      "metadata": {
        "id": "brSVL_OVwFU6",
        "colab": {
          "base_uri": "https://localhost:8080/"
        },
        "outputId": "fd5d076e-b8ff-48d6-95a4-3e5bf40b127e"
      },
      "source": [
        "a2 = np.array([[False, False, False],\n",
        "               [False, True, True],\n",
        "               [False, True, True]])\n",
        "print(a2)\n",
        "print(np.any(a2))\n",
        "print(np.any(a2, axis=0))\n",
        "print(np.any(a2, axis=1))"
      ],
      "execution_count": null,
      "outputs": [
        {
          "output_type": "stream",
          "name": "stdout",
          "text": [
            "[[False False False]\n",
            " [False  True  True]\n",
            " [False  True  True]]\n",
            "True\n",
            "[False  True  True]\n",
            "[False  True  True]\n"
          ]
        }
      ]
    },
    {
      "cell_type": "markdown",
      "metadata": {
        "id": "ALiEiva4xCUA"
      },
      "source": [
        "- all()"
      ]
    },
    {
      "cell_type": "code",
      "metadata": {
        "id": "ZvNQEXFDxCGE",
        "colab": {
          "base_uri": "https://localhost:8080/"
        },
        "outputId": "7bd3bc24-9139-49b4-d3ac-0e72d3e34cae"
      },
      "source": [
        "a2 = np.array([[False, False, False],\n",
        "               [False, True, True],\n",
        "               [False, True, True]])\n",
        "print(a2)\n",
        "print(np.all(a2))\n",
        "print(np.all(a2, axis=0))\n",
        "print(np.all(a2, axis=1))"
      ],
      "execution_count": null,
      "outputs": [
        {
          "output_type": "stream",
          "name": "stdout",
          "text": [
            "[[False False False]\n",
            " [False  True  True]\n",
            " [False  True  True]]\n",
            "False\n",
            "[False False False]\n",
            "[False False False]\n"
          ]
        }
      ]
    },
    {
      "cell_type": "markdown",
      "metadata": {
        "id": "hvGqVi5ZxRGI"
      },
      "source": [
        "\n",
        "# 비교 연산"
      ]
    },
    {
      "cell_type": "code",
      "metadata": {
        "id": "oTIx4_gqxYSi",
        "colab": {
          "base_uri": "https://localhost:8080/"
        },
        "outputId": "4ad3f60b-3d06-4361-c658-5a323ca55b36"
      },
      "source": [
        "  a1 = np.arange(1, 10)\n",
        "  print(a1)\n",
        "  print(a1 == 5)\n",
        "  print(a1 != 5)\n",
        "  print(a1 < 5)\n",
        "  print(a1 <= 5)\n",
        "  print(a1 > 5)\n",
        "  print(a1 >= 5)"
      ],
      "execution_count": null,
      "outputs": [
        {
          "output_type": "stream",
          "name": "stdout",
          "text": [
            "[1 2 3 4 5 6 7 8 9]\n",
            "[False False False False  True False False False False]\n",
            "[ True  True  True  True False  True  True  True  True]\n",
            "[ True  True  True  True False False False False False]\n",
            "[ True  True  True  True  True False False False False]\n",
            "[False False False False False  True  True  True  True]\n",
            "[False False False False  True  True  True  True  True]\n"
          ]
        }
      ]
    },
    {
      "cell_type": "code",
      "metadata": {
        "id": "Rm50tugWyevp",
        "colab": {
          "base_uri": "https://localhost:8080/"
        },
        "outputId": "780b755b-2df5-4dd5-c709-99a790efc042"
      },
      "source": [
        "a1 = np.array([1, 2, 3, 4, 5])\n",
        "print(a1)\n",
        "b1 = np.array([1, 2, 3, 3, 4])\n",
        "print(b1)\n",
        "print(np.isclose(a1, b1))"
      ],
      "execution_count": null,
      "outputs": [
        {
          "output_type": "stream",
          "name": "stdout",
          "text": [
            "[1 2 3 4 5]\n",
            "[1 2 3 3 4]\n",
            "[ True  True  True False False]\n"
          ]
        }
      ]
    },
    {
      "cell_type": "markdown",
      "metadata": {
        "id": "FR3wT2brzbVL"
      },
      "source": [
        "\n",
        "# 배열 정렬\n",
        "\n"
      ]
    },
    {
      "cell_type": "code",
      "metadata": {
        "id": "UV6QrVDC3c1r",
        "colab": {
          "base_uri": "https://localhost:8080/"
        },
        "outputId": "cb34ca6d-263b-4214-94f8-e3c5d2052092"
      },
      "source": [
        "a1 = np.random.randint(1, 10, size = 10)\n",
        "print(a1)\n",
        "print(np.sort(a1))\n",
        "print(a1)\n",
        "print(np.argsort(a1))\n",
        "print(a1)\n",
        "print(a1.sort())\n",
        "print(a1)"
      ],
      "execution_count": null,
      "outputs": [
        {
          "output_type": "stream",
          "name": "stdout",
          "text": [
            "[6 3 8 1 7 7 3 9 2 5]\n",
            "[1 2 3 3 5 6 7 7 8 9]\n",
            "[6 3 8 1 7 7 3 9 2 5]\n",
            "[3 8 1 6 9 0 4 5 2 7]\n",
            "[6 3 8 1 7 7 3 9 2 5]\n",
            "None\n",
            "[1 2 3 3 5 6 7 7 8 9]\n"
          ]
        }
      ]
    },
    {
      "cell_type": "markdown",
      "metadata": {
        "id": "Vw4svu3u6iw5"
      },
      "source": [
        "\n",
        "# 부분 정렬\n",
        "\n"
      ]
    },
    {
      "cell_type": "markdown",
      "metadata": {
        "id": "72kSfSPj6nyw"
      },
      "source": [
        "- partition(): 배열에서 k개의 작은 값을 반환"
      ]
    },
    {
      "cell_type": "code",
      "metadata": {
        "id": "u97ufoPl6i67",
        "colab": {
          "base_uri": "https://localhost:8080/"
        },
        "outputId": "8cb5a6fa-0422-4674-f8b9-3a661365b698"
      },
      "source": [
        "a1 = np.random.randint(1, 10, size=10)\n",
        "print(a1)\n",
        "print(np.partition(a1, 3))"
      ],
      "execution_count": null,
      "outputs": [
        {
          "output_type": "stream",
          "name": "stdout",
          "text": [
            "[2 9 4 5 1 7 5 2 9 3]\n",
            "[2 1 2 3 4 5 9 7 9 5]\n"
          ]
        }
      ]
    },
    {
      "cell_type": "code",
      "metadata": {
        "id": "bGk8vGFH65hs",
        "colab": {
          "base_uri": "https://localhost:8080/"
        },
        "outputId": "1babb472-36c3-4713-aac7-0e8a722a60fe"
      },
      "source": [
        "a2 = np.random.randint(1, 10, size=(5,5))\n",
        "print(a2)\n",
        "print(np.partition(a2, 3))\n",
        "print(np.partition(a2, 3, axis=0))\n",
        "print(np.partition(a2, 3, axis=1))"
      ],
      "execution_count": null,
      "outputs": [
        {
          "output_type": "stream",
          "name": "stdout",
          "text": [
            "[[6 8 8 5 8]\n",
            " [6 1 1 5 8]\n",
            " [9 9 9 5 3]\n",
            " [5 3 1 9 6]\n",
            " [9 3 7 1 9]]\n",
            "[[5 6 8 8 8]\n",
            " [5 1 1 6 8]\n",
            " [5 3 9 9 9]\n",
            " [3 1 5 6 9]\n",
            " [1 7 3 9 9]]\n",
            "[[5 3 1 1 6]\n",
            " [6 3 7 5 3]\n",
            " [6 1 1 5 8]\n",
            " [9 8 8 5 8]\n",
            " [9 9 9 9 9]]\n",
            "[[5 6 8 8 8]\n",
            " [5 1 1 6 8]\n",
            " [5 3 9 9 9]\n",
            " [3 1 5 6 9]\n",
            " [1 7 3 9 9]]\n"
          ]
        }
      ]
    },
    {
      "cell_type": "markdown",
      "metadata": {
        "id": "qD3HTYGJ7TFp"
      },
      "source": [
        "\n",
        "# 배열 입출력\n",
        "\n"
      ]
    },
    {
      "cell_type": "code",
      "metadata": {
        "id": "Lb6osnvO7aAt",
        "colab": {
          "base_uri": "https://localhost:8080/"
        },
        "outputId": "8e545845-066b-4e14-dd4f-b36d5140f7e0"
      },
      "source": [
        "a2 = np.random.randint(1, 10, size=(5,5))\n",
        "print(a2)\n",
        "np.save(\"a\", a2)"
      ],
      "execution_count": null,
      "outputs": [
        {
          "output_type": "stream",
          "name": "stdout",
          "text": [
            "[[3 4 8 8 4]\n",
            " [8 7 6 6 4]\n",
            " [2 6 8 1 8]\n",
            " [6 2 8 4 6]\n",
            " [2 6 3 1 7]]\n"
          ]
        }
      ]
    },
    {
      "cell_type": "code",
      "metadata": {
        "id": "6VI27DDo7n1G",
        "colab": {
          "base_uri": "https://localhost:8080/"
        },
        "outputId": "21406913-823a-46f8-8dfa-acd642102fdf"
      },
      "source": [
        "b2 = np.random.randint(1, 10, size=(5, 5))\n",
        "print(b2)\n",
        "np.savez(\"ab\", a2, b2)"
      ],
      "execution_count": null,
      "outputs": [
        {
          "output_type": "stream",
          "name": "stdout",
          "text": [
            "[[6 9 7 4 1]\n",
            " [5 2 8 6 8]\n",
            " [1 1 1 8 5]\n",
            " [8 2 2 9 1]\n",
            " [7 4 2 1 5]]\n"
          ]
        }
      ]
    },
    {
      "cell_type": "code",
      "metadata": {
        "id": "8l966RxA71ie",
        "colab": {
          "base_uri": "https://localhost:8080/"
        },
        "outputId": "02010057-e4a6-44ff-ed77-a264adfabf4b"
      },
      "source": [
        "!ls"
      ],
      "execution_count": null,
      "outputs": [
        {
          "output_type": "stream",
          "name": "stdout",
          "text": [
            "ab.npz\ta.npy  sample_data\n"
          ]
        }
      ]
    },
    {
      "cell_type": "code",
      "metadata": {
        "id": "I0gtSQQP74-W",
        "colab": {
          "base_uri": "https://localhost:8080/"
        },
        "outputId": "95673291-94d1-48c4-c9a3-e0853a16b396"
      },
      "source": [
        "npy = np.load(\"a.npy\")\n",
        "print(npy)"
      ],
      "execution_count": null,
      "outputs": [
        {
          "output_type": "stream",
          "name": "stdout",
          "text": [
            "[[3 4 8 8 4]\n",
            " [8 7 6 6 4]\n",
            " [2 6 8 1 8]\n",
            " [6 2 8 4 6]\n",
            " [2 6 3 1 7]]\n"
          ]
        }
      ]
    },
    {
      "cell_type": "code",
      "metadata": {
        "id": "vdnltps-8JlO",
        "colab": {
          "base_uri": "https://localhost:8080/"
        },
        "outputId": "ac2de508-346c-4d73-dcfa-51859fa5c240"
      },
      "source": [
        "print(a2)\n",
        "np.savetxt(\"a.csv\", a2, delimiter=',')"
      ],
      "execution_count": null,
      "outputs": [
        {
          "output_type": "stream",
          "name": "stdout",
          "text": [
            "[[3 4 8 8 4]\n",
            " [8 7 6 6 4]\n",
            " [2 6 8 1 8]\n",
            " [6 2 8 4 6]\n",
            " [2 6 3 1 7]]\n"
          ]
        }
      ]
    },
    {
      "cell_type": "markdown",
      "metadata": {
        "id": "hXdg4QEK8RrZ"
      },
      "source": [
        "!ls"
      ]
    },
    {
      "cell_type": "code",
      "metadata": {
        "id": "SfWeuKV88V7K",
        "colab": {
          "base_uri": "https://localhost:8080/"
        },
        "outputId": "570adaed-71f3-461e-b7ce-806e37bca8a8"
      },
      "source": [
        "!cat a.csv"
      ],
      "execution_count": null,
      "outputs": [
        {
          "output_type": "stream",
          "name": "stdout",
          "text": [
            "3.000000000000000000e+00,4.000000000000000000e+00,8.000000000000000000e+00,8.000000000000000000e+00,4.000000000000000000e+00\n",
            "8.000000000000000000e+00,7.000000000000000000e+00,6.000000000000000000e+00,6.000000000000000000e+00,4.000000000000000000e+00\n",
            "2.000000000000000000e+00,6.000000000000000000e+00,8.000000000000000000e+00,1.000000000000000000e+00,8.000000000000000000e+00\n",
            "6.000000000000000000e+00,2.000000000000000000e+00,8.000000000000000000e+00,4.000000000000000000e+00,6.000000000000000000e+00\n",
            "2.000000000000000000e+00,6.000000000000000000e+00,3.000000000000000000e+00,1.000000000000000000e+00,7.000000000000000000e+00\n"
          ]
        }
      ]
    },
    {
      "cell_type": "code",
      "metadata": {
        "id": "mzhjWIKI8YrQ",
        "colab": {
          "base_uri": "https://localhost:8080/"
        },
        "outputId": "4885f6d2-f45a-4ad7-d765-df2addeb1df5"
      },
      "source": [
        "csv = np.loadtxt(\"a.csv\", delimiter=',')\n",
        "print(csv)"
      ],
      "execution_count": null,
      "outputs": [
        {
          "output_type": "stream",
          "name": "stdout",
          "text": [
            "[[3. 4. 8. 8. 4.]\n",
            " [8. 7. 6. 6. 4.]\n",
            " [2. 6. 8. 1. 8.]\n",
            " [6. 2. 8. 4. 6.]\n",
            " [2. 6. 3. 1. 7.]]\n"
          ]
        }
      ]
    },
    {
      "cell_type": "code",
      "metadata": {
        "id": "fVfRJhvA8hBN",
        "colab": {
          "base_uri": "https://localhost:8080/"
        },
        "outputId": "a0b9efbb-b616-4a26-bead-03fd2c74c122"
      },
      "source": [
        "print(b2)\n",
        "np.savetxt(\"b.csv\", b2, delimiter=',', fmt='%.2e', header='c1, c2, c3, c4, c5')"
      ],
      "execution_count": null,
      "outputs": [
        {
          "output_type": "stream",
          "name": "stdout",
          "text": [
            "[[6 9 7 4 1]\n",
            " [5 2 8 6 8]\n",
            " [1 1 1 8 5]\n",
            " [8 2 2 9 1]\n",
            " [7 4 2 1 5]]\n"
          ]
        }
      ]
    },
    {
      "cell_type": "code",
      "metadata": {
        "id": "ajyRs2MN8uI_",
        "colab": {
          "base_uri": "https://localhost:8080/"
        },
        "outputId": "176308ed-3e85-4fcc-91ca-58342c075046"
      },
      "source": [
        "!cat b.csv"
      ],
      "execution_count": null,
      "outputs": [
        {
          "output_type": "stream",
          "name": "stdout",
          "text": [
            "# c1, c2, c3, c4, c5\n",
            "6.00e+00,9.00e+00,7.00e+00,4.00e+00,1.00e+00\n",
            "5.00e+00,2.00e+00,8.00e+00,6.00e+00,8.00e+00\n",
            "1.00e+00,1.00e+00,1.00e+00,8.00e+00,5.00e+00\n",
            "8.00e+00,2.00e+00,2.00e+00,9.00e+00,1.00e+00\n",
            "7.00e+00,4.00e+00,2.00e+00,1.00e+00,5.00e+00\n"
          ]
        }
      ]
    },
    {
      "cell_type": "code",
      "metadata": {
        "id": "MQEp3pxn8wao",
        "colab": {
          "base_uri": "https://localhost:8080/"
        },
        "outputId": "f05a6d70-1c84-4c34-ca73-a179f5efb154"
      },
      "source": [
        "csv = np.loadtxt(\"b.csv\", delimiter=',')\n",
        "print(csv)"
      ],
      "execution_count": null,
      "outputs": [
        {
          "output_type": "stream",
          "name": "stdout",
          "text": [
            "[[6. 9. 7. 4. 1.]\n",
            " [5. 2. 8. 6. 8.]\n",
            " [1. 1. 1. 8. 5.]\n",
            " [8. 2. 2. 9. 1.]\n",
            " [7. 4. 2. 1. 5.]]\n"
          ]
        }
      ]
    }
  ]
}